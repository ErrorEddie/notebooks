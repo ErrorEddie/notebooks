{
 "cells": [
  {
   "cell_type": "code",
   "execution_count": 1,
   "id": "a9a76cf6",
   "metadata": {},
   "outputs": [
    {
     "name": "stdout",
     "output_type": "stream",
     "text": [
      "hi\n"
     ]
    }
   ],
   "source": [
    "print('hi')"
   ]
  },
  {
   "cell_type": "code",
   "execution_count": 2,
   "id": "bd8ef389",
   "metadata": {},
   "outputs": [],
   "source": [
    "x = 5"
   ]
  },
  {
   "cell_type": "code",
   "execution_count": 3,
   "id": "e20ac220",
   "metadata": {},
   "outputs": [
    {
     "name": "stdout",
     "output_type": "stream",
     "text": [
      "x\n"
     ]
    }
   ],
   "source": [
    "print('x')"
   ]
  },
  {
   "cell_type": "code",
   "execution_count": 4,
   "id": "6122c821",
   "metadata": {},
   "outputs": [
    {
     "name": "stdout",
     "output_type": "stream",
     "text": [
      "5\n"
     ]
    }
   ],
   "source": [
    "print(x)"
   ]
  },
  {
   "cell_type": "code",
   "execution_count": 5,
   "id": "e664f6e6",
   "metadata": {},
   "outputs": [
    {
     "data": {
      "text/plain": [
       "True"
      ]
     },
     "execution_count": 5,
     "metadata": {},
     "output_type": "execute_result"
    }
   ],
   "source": [
    "5 == 5.0"
   ]
  },
  {
   "cell_type": "code",
   "execution_count": 6,
   "id": "05eacc8a",
   "metadata": {},
   "outputs": [],
   "source": [
    "name = 'erik'"
   ]
  },
  {
   "cell_type": "code",
   "execution_count": 7,
   "id": "096cf7a8",
   "metadata": {},
   "outputs": [
    {
     "data": {
      "text/plain": [
       "str"
      ]
     },
     "execution_count": 7,
     "metadata": {},
     "output_type": "execute_result"
    }
   ],
   "source": [
    "type('erik')"
   ]
  },
  {
   "cell_type": "code",
   "execution_count": 10,
   "id": "3dbf66ee",
   "metadata": {},
   "outputs": [],
   "source": [
    "meineliste =[1,2,3,4]"
   ]
  },
  {
   "cell_type": "code",
   "execution_count": 11,
   "id": "141b9cea",
   "metadata": {},
   "outputs": [
    {
     "name": "stdout",
     "output_type": "stream",
     "text": [
      "[1, 2, 3, 4]\n"
     ]
    }
   ],
   "source": [
    "print(meineliste)"
   ]
  },
  {
   "cell_type": "code",
   "execution_count": 12,
   "id": "2ed45467",
   "metadata": {},
   "outputs": [
    {
     "data": {
      "text/plain": [
       "4"
      ]
     },
     "execution_count": 12,
     "metadata": {},
     "output_type": "execute_result"
    }
   ],
   "source": [
    "len(meineliste)"
   ]
  },
  {
   "cell_type": "code",
   "execution_count": 22,
   "id": "12e7baa8",
   "metadata": {},
   "outputs": [
    {
     "data": {
      "text/plain": [
       "2"
      ]
     },
     "execution_count": 22,
     "metadata": {},
     "output_type": "execute_result"
    }
   ],
   "source": [
    "1+1"
   ]
  },
  {
   "cell_type": "code",
   "execution_count": 14,
   "id": "57f718ba",
   "metadata": {},
   "outputs": [
    {
     "data": {
      "text/plain": [
       "5"
      ]
     },
     "execution_count": 14,
     "metadata": {},
     "output_type": "execute_result"
    }
   ],
   "source": [
    "1+4"
   ]
  },
  {
   "cell_type": "code",
   "execution_count": 15,
   "id": "c811ee9b",
   "metadata": {},
   "outputs": [
    {
     "data": {
      "text/plain": [
       "18"
      ]
     },
     "execution_count": 15,
     "metadata": {},
     "output_type": "execute_result"
    }
   ],
   "source": [
    "3*6\n"
   ]
  },
  {
   "cell_type": "code",
   "execution_count": 16,
   "id": "7e0fc6b8",
   "metadata": {},
   "outputs": [
    {
     "data": {
      "text/plain": [
       "32"
      ]
     },
     "execution_count": 16,
     "metadata": {},
     "output_type": "execute_result"
    }
   ],
   "source": [
    "2**5"
   ]
  },
  {
   "cell_type": "code",
   "execution_count": 17,
   "id": "a7e7a7f2",
   "metadata": {},
   "outputs": [
    {
     "data": {
      "text/plain": [
       "2"
      ]
     },
     "execution_count": 17,
     "metadata": {},
     "output_type": "execute_result"
    }
   ],
   "source": [
    "2%6\n"
   ]
  },
  {
   "cell_type": "code",
   "execution_count": 18,
   "id": "9da9a544",
   "metadata": {},
   "outputs": [
    {
     "data": {
      "text/plain": [
       "2"
      ]
     },
     "execution_count": 18,
     "metadata": {},
     "output_type": "execute_result"
    }
   ],
   "source": [
    "20%6\n"
   ]
  },
  {
   "cell_type": "code",
   "execution_count": 19,
   "id": "5a7b697c",
   "metadata": {},
   "outputs": [
    {
     "data": {
      "text/plain": [
       "'hiha'"
      ]
     },
     "execution_count": 19,
     "metadata": {},
     "output_type": "execute_result"
    }
   ],
   "source": [
    "'hi'+'ha'"
   ]
  },
  {
   "cell_type": "code",
   "execution_count": 20,
   "id": "ebb3392d",
   "metadata": {},
   "outputs": [
    {
     "data": {
      "text/plain": [
       "'hihihi'"
      ]
     },
     "execution_count": 20,
     "metadata": {},
     "output_type": "execute_result"
    }
   ],
   "source": [
    "'hi' *3\n"
   ]
  },
  {
   "cell_type": "code",
   "execution_count": 23,
   "id": "ab45367d",
   "metadata": {},
   "outputs": [
    {
     "data": {
      "text/plain": [
       "False"
      ]
     },
     "execution_count": 23,
     "metadata": {},
     "output_type": "execute_result"
    }
   ],
   "source": [
    "'cat' in 'in box'"
   ]
  },
  {
   "cell_type": "code",
   "execution_count": 24,
   "id": "4d5e6f4c",
   "metadata": {},
   "outputs": [
    {
     "name": "stdout",
     "output_type": "stream",
     "text": [
      "0\n",
      "1\n",
      "2\n",
      "3\n",
      "4\n"
     ]
    }
   ],
   "source": [
    "a = 0\n",
    "while a < 5:\n",
    "    print(a)\n",
    "    a=a+1\n"
   ]
  },
  {
   "cell_type": "code",
   "execution_count": 25,
   "id": "5e1c9ba7",
   "metadata": {},
   "outputs": [],
   "source": [
    "import numpy"
   ]
  },
  {
   "cell_type": "code",
   "execution_count": 26,
   "id": "19e13948",
   "metadata": {},
   "outputs": [
    {
     "ename": "OSError",
     "evalue": "inflammation-01.csv not found.",
     "output_type": "error",
     "traceback": [
      "\u001b[0;31m---------------------------------------------------------------------------\u001b[0m",
      "\u001b[0;31mOSError\u001b[0m                                   Traceback (most recent call last)",
      "\u001b[0;32m/tmp/ipykernel_115123/3629343276.py\u001b[0m in \u001b[0;36m<module>\u001b[0;34m\u001b[0m\n\u001b[0;32m----> 1\u001b[0;31m \u001b[0mnumpy\u001b[0m\u001b[0;34m.\u001b[0m\u001b[0mloadtxt\u001b[0m\u001b[0;34m(\u001b[0m\u001b[0mfname\u001b[0m\u001b[0;34m=\u001b[0m\u001b[0;34m'inflammation-01.csv'\u001b[0m\u001b[0;34m,\u001b[0m \u001b[0mdelimiter\u001b[0m\u001b[0;34m=\u001b[0m\u001b[0;34m','\u001b[0m\u001b[0;34m)\u001b[0m\u001b[0;34m\u001b[0m\u001b[0;34m\u001b[0m\u001b[0m\n\u001b[0m",
      "\u001b[0;32m~/anaconda3/lib/python3.9/site-packages/numpy/lib/npyio.py\u001b[0m in \u001b[0;36mloadtxt\u001b[0;34m(fname, dtype, comments, delimiter, converters, skiprows, usecols, unpack, ndmin, encoding, max_rows, like)\u001b[0m\n\u001b[1;32m   1065\u001b[0m             \u001b[0mfname\u001b[0m \u001b[0;34m=\u001b[0m \u001b[0mos_fspath\u001b[0m\u001b[0;34m(\u001b[0m\u001b[0mfname\u001b[0m\u001b[0;34m)\u001b[0m\u001b[0;34m\u001b[0m\u001b[0;34m\u001b[0m\u001b[0m\n\u001b[1;32m   1066\u001b[0m         \u001b[0;32mif\u001b[0m \u001b[0m_is_string_like\u001b[0m\u001b[0;34m(\u001b[0m\u001b[0mfname\u001b[0m\u001b[0;34m)\u001b[0m\u001b[0;34m:\u001b[0m\u001b[0;34m\u001b[0m\u001b[0;34m\u001b[0m\u001b[0m\n\u001b[0;32m-> 1067\u001b[0;31m             \u001b[0mfh\u001b[0m \u001b[0;34m=\u001b[0m \u001b[0mnp\u001b[0m\u001b[0;34m.\u001b[0m\u001b[0mlib\u001b[0m\u001b[0;34m.\u001b[0m\u001b[0m_datasource\u001b[0m\u001b[0;34m.\u001b[0m\u001b[0mopen\u001b[0m\u001b[0;34m(\u001b[0m\u001b[0mfname\u001b[0m\u001b[0;34m,\u001b[0m \u001b[0;34m'rt'\u001b[0m\u001b[0;34m,\u001b[0m \u001b[0mencoding\u001b[0m\u001b[0;34m=\u001b[0m\u001b[0mencoding\u001b[0m\u001b[0;34m)\u001b[0m\u001b[0;34m\u001b[0m\u001b[0;34m\u001b[0m\u001b[0m\n\u001b[0m\u001b[1;32m   1068\u001b[0m             \u001b[0mfencoding\u001b[0m \u001b[0;34m=\u001b[0m \u001b[0mgetattr\u001b[0m\u001b[0;34m(\u001b[0m\u001b[0mfh\u001b[0m\u001b[0;34m,\u001b[0m \u001b[0;34m'encoding'\u001b[0m\u001b[0;34m,\u001b[0m \u001b[0;34m'latin1'\u001b[0m\u001b[0;34m)\u001b[0m\u001b[0;34m\u001b[0m\u001b[0;34m\u001b[0m\u001b[0m\n\u001b[1;32m   1069\u001b[0m             \u001b[0mfh\u001b[0m \u001b[0;34m=\u001b[0m \u001b[0miter\u001b[0m\u001b[0;34m(\u001b[0m\u001b[0mfh\u001b[0m\u001b[0;34m)\u001b[0m\u001b[0;34m\u001b[0m\u001b[0;34m\u001b[0m\u001b[0m\n",
      "\u001b[0;32m~/anaconda3/lib/python3.9/site-packages/numpy/lib/_datasource.py\u001b[0m in \u001b[0;36mopen\u001b[0;34m(path, mode, destpath, encoding, newline)\u001b[0m\n\u001b[1;32m    191\u001b[0m \u001b[0;34m\u001b[0m\u001b[0m\n\u001b[1;32m    192\u001b[0m     \u001b[0mds\u001b[0m \u001b[0;34m=\u001b[0m \u001b[0mDataSource\u001b[0m\u001b[0;34m(\u001b[0m\u001b[0mdestpath\u001b[0m\u001b[0;34m)\u001b[0m\u001b[0;34m\u001b[0m\u001b[0;34m\u001b[0m\u001b[0m\n\u001b[0;32m--> 193\u001b[0;31m     \u001b[0;32mreturn\u001b[0m \u001b[0mds\u001b[0m\u001b[0;34m.\u001b[0m\u001b[0mopen\u001b[0m\u001b[0;34m(\u001b[0m\u001b[0mpath\u001b[0m\u001b[0;34m,\u001b[0m \u001b[0mmode\u001b[0m\u001b[0;34m,\u001b[0m \u001b[0mencoding\u001b[0m\u001b[0;34m=\u001b[0m\u001b[0mencoding\u001b[0m\u001b[0;34m,\u001b[0m \u001b[0mnewline\u001b[0m\u001b[0;34m=\u001b[0m\u001b[0mnewline\u001b[0m\u001b[0;34m)\u001b[0m\u001b[0;34m\u001b[0m\u001b[0;34m\u001b[0m\u001b[0m\n\u001b[0m\u001b[1;32m    194\u001b[0m \u001b[0;34m\u001b[0m\u001b[0m\n\u001b[1;32m    195\u001b[0m \u001b[0;34m\u001b[0m\u001b[0m\n",
      "\u001b[0;32m~/anaconda3/lib/python3.9/site-packages/numpy/lib/_datasource.py\u001b[0m in \u001b[0;36mopen\u001b[0;34m(self, path, mode, encoding, newline)\u001b[0m\n\u001b[1;32m    531\u001b[0m                                       encoding=encoding, newline=newline)\n\u001b[1;32m    532\u001b[0m         \u001b[0;32melse\u001b[0m\u001b[0;34m:\u001b[0m\u001b[0;34m\u001b[0m\u001b[0;34m\u001b[0m\u001b[0m\n\u001b[0;32m--> 533\u001b[0;31m             \u001b[0;32mraise\u001b[0m \u001b[0mIOError\u001b[0m\u001b[0;34m(\u001b[0m\u001b[0;34m\"%s not found.\"\u001b[0m \u001b[0;34m%\u001b[0m \u001b[0mpath\u001b[0m\u001b[0;34m)\u001b[0m\u001b[0;34m\u001b[0m\u001b[0;34m\u001b[0m\u001b[0m\n\u001b[0m\u001b[1;32m    534\u001b[0m \u001b[0;34m\u001b[0m\u001b[0m\n\u001b[1;32m    535\u001b[0m \u001b[0;34m\u001b[0m\u001b[0m\n",
      "\u001b[0;31mOSError\u001b[0m: inflammation-01.csv not found."
     ]
    }
   ],
   "source": [
    "numpy.loadtxt(fname='inflammation-01.csv', delimiter=',')\n"
   ]
  },
  {
   "cell_type": "code",
   "execution_count": 1,
   "id": "2cc6e12a",
   "metadata": {},
   "outputs": [
    {
     "name": "stdout",
     "output_type": "stream",
     "text": [
      "inflammation.csv\n"
     ]
    },
    {
     "data": {
      "image/png": "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\n",
      "text/plain": [
       "<Figure size 1000x300 with 3 Axes>"
      ]
     },
     "metadata": {},
     "output_type": "display_data"
    }
   ],
   "source": [
    "import glob\n",
    "import numpy\n",
    "import matplotlib.pyplot\n",
    "\n",
    "filenames = sorted(glob.glob('inflammation*.csv'))\n",
    "filenames = filenames[0:3]\n",
    "for filename in filenames:\n",
    "    print(filename)\n",
    "\n",
    "    data = numpy.loadtxt(fname=filename, delimiter=',')\n",
    "\n",
    "    fig = matplotlib.pyplot.figure(figsize=(10.0, 3.0))\n",
    "\n",
    "    axes1 = fig.add_subplot(1, 3, 1)\n",
    "    axes2 = fig.add_subplot(1, 3, 2)\n",
    "    axes3 = fig.add_subplot(1, 3, 3)\n",
    "\n",
    "    axes1.set_ylabel('average')\n",
    "    axes1.plot(numpy.mean(data, axis=0))\n",
    "\n",
    "    axes2.set_ylabel('max')\n",
    "    axes2.plot(numpy.max(data, axis=0))\n",
    "\n",
    "    axes3.set_ylabel('min')\n",
    "    axes3.plot(numpy.min(data, axis=0))\n",
    "\n",
    "    fig.tight_layout()\n",
    "    matplotlib.pyplot.show()"
   ]
  },
  {
   "cell_type": "code",
   "execution_count": 3,
   "id": "4091006d",
   "metadata": {},
   "outputs": [
    {
     "ename": "IndentationError",
     "evalue": "expected an indented block (3271375722.py, line 4)",
     "output_type": "error",
     "traceback": [
      "\u001b[0;36m  File \u001b[0;32m\"/tmp/ipykernel_644533/3271375722.py\"\u001b[0;36m, line \u001b[0;32m4\u001b[0m\n\u001b[0;31m    composite_data = composite_data / len(filenames)\u001b[0m\n\u001b[0m    ^\u001b[0m\n\u001b[0;31mIndentationError\u001b[0m\u001b[0;31m:\u001b[0m expected an indented block\n"
     ]
    }
   ],
   "source": [
    "filenames = glob.glob('inflammation*.csv')\n",
    "composite_data = numpy.zeros((60,40))\n",
    "for filename in filenames:\n",
    "composite_data = composite_data / len(filenames)\n"
   ]
  },
  {
   "cell_type": "code",
   "execution_count": 4,
   "id": "35c694fb",
   "metadata": {},
   "outputs": [
    {
     "name": "stdout",
     "output_type": "stream",
     "text": [
      "[[ 0.  0.  1.  3.  1.  2.  4.  7.  8.  3.  3.  3. 10.  5.  7.  4.  7.  7.\n",
      "  12. 18.  6. 13. 11. 11.  7.  7.  4.  6.  8.  8.  4.  4.  5.  7.  3.  4.\n",
      "   2.  3.  0.  0.]\n",
      " [ 0.  1.  2.  1.  2.  1.  3.  2.  2.  6. 10. 11.  5.  9.  4.  4.  7. 16.\n",
      "   8.  6. 18.  4. 12.  5. 12.  7. 11.  5. 11.  3.  3.  5.  4.  4.  5.  5.\n",
      "   1.  1.  0.  1.]\n",
      " [ 0.  1.  1.  3.  3.  2.  6.  2.  5.  9.  5.  7.  4.  5.  4. 15.  5. 11.\n",
      "   9. 10. 19. 14. 12. 17.  7. 12. 11.  7.  4.  2. 10.  5.  4.  2.  2.  3.\n",
      "   2.  2.  1.  1.]]\n"
     ]
    }
   ],
   "source": [
    "print(data)"
   ]
  },
  {
   "cell_type": "code",
   "execution_count": 14,
   "id": "1877c51d",
   "metadata": {},
   "outputs": [
    {
     "name": "stdout",
     "output_type": "stream",
     "text": [
      "middle value in data: 10.0\n"
     ]
    }
   ],
   "source": [
    "print('middle value in data:', data[2, 30])\n"
   ]
  },
  {
   "cell_type": "code",
   "execution_count": 15,
   "id": "848dfef5",
   "metadata": {},
   "outputs": [
    {
     "name": "stdout",
     "output_type": "stream",
     "text": [
      "[[ 0.  0.  1.  3.  1.  2.  4.  7.  8.  3.  3.  3. 10.  5.  7.  4.  7.  7.\n",
      "  12. 18.  6. 13. 11. 11.  7.  7.  4.  6.  8.  8.  4.  4.  5.  7.  3.  4.\n",
      "   2.  3.  0.  0.]\n",
      " [ 0.  1.  2.  1.  2.  1.  3.  2.  2.  6. 10. 11.  5.  9.  4.  4.  7. 16.\n",
      "   8.  6. 18.  4. 12.  5. 12.  7. 11.  5. 11.  3.  3.  5.  4.  4.  5.  5.\n",
      "   1.  1.  0.  1.]\n",
      " [ 0.  1.  1.  3.  3.  2.  6.  2.  5.  9.  5.  7.  4.  5.  4. 15.  5. 11.\n",
      "   9. 10. 19. 14. 12. 17.  7. 12. 11.  7.  4.  2. 10.  5.  4.  2.  2.  3.\n",
      "   2.  2.  1.  1.]]\n"
     ]
    }
   ],
   "source": [
    "print(data[0:6, 0:60])\n"
   ]
  },
  {
   "cell_type": "code",
   "execution_count": 16,
   "id": "286add0b",
   "metadata": {},
   "outputs": [
    {
     "name": "stdout",
     "output_type": "stream",
     "text": [
      "small is:\n",
      "[[2. 3. 0. 0.]\n",
      " [1. 1. 0. 1.]\n",
      " [2. 2. 1. 1.]]\n"
     ]
    }
   ],
   "source": [
    "small = data[:3, 36:]\n",
    "print('small is:')\n",
    "print(small)"
   ]
  },
  {
   "cell_type": "code",
   "execution_count": 17,
   "id": "b58b6c46",
   "metadata": {},
   "outputs": [
    {
     "data": {
      "text/plain": [
       "14"
      ]
     },
     "execution_count": 17,
     "metadata": {},
     "output_type": "execute_result"
    }
   ],
   "source": [
    "2+1+2+3+1+2+1+1+1"
   ]
  },
  {
   "cell_type": "code",
   "execution_count": 18,
   "id": "dff2e2e2",
   "metadata": {},
   "outputs": [
    {
     "name": "stdout",
     "output_type": "stream",
     "text": [
      "5.658333333333333\n"
     ]
    }
   ],
   "source": [
    "print(numpy.mean(data))\n"
   ]
  },
  {
   "cell_type": "code",
   "execution_count": 20,
   "id": "5971bb6c",
   "metadata": {},
   "outputs": [
    {
     "name": "stdout",
     "output_type": "stream",
     "text": [
      "maximum inflammation: 19.0\n",
      "minimum inflammation: 0.0\n",
      "standard deviation: 4.352194529455482\n"
     ]
    }
   ],
   "source": [
    "maxval, minval, stdval = numpy.max(data), numpy.min(data), numpy.std(data)\n",
    "\n",
    "print('maximum inflammation:', maxval)\n",
    "print('minimum inflammation:', minval)\n",
    "print('standard deviation:', stdval)"
   ]
  },
  {
   "cell_type": "code",
   "execution_count": 21,
   "id": "7226de8e",
   "metadata": {},
   "outputs": [
    {
     "name": "stdout",
     "output_type": "stream",
     "text": [
      "maximum inflammation for patient 0: 18.0\n"
     ]
    }
   ],
   "source": [
    "patient_0 = data[0, :] # 0 on the first axis (rows), everything on the second (columns)\n",
    "print('maximum inflammation for patient 0:', numpy.max(patient_0))\n",
    "\n"
   ]
  },
  {
   "cell_type": "code",
   "execution_count": 1,
   "id": "eb70c1da",
   "metadata": {},
   "outputs": [],
   "source": [
    "import numpy\n"
   ]
  },
  {
   "cell_type": "code",
   "execution_count": 2,
   "id": "7bca909e",
   "metadata": {},
   "outputs": [
    {
     "data": {
      "text/plain": [
       "array([[ 0.,  0.,  1.,  3.,  1.,  2.,  4.,  7.,  8.,  3.,  3.,  3., 10.,\n",
       "         5.,  7.,  4.,  7.,  7., 12., 18.,  6., 13., 11., 11.,  7.,  7.,\n",
       "         4.,  6.,  8.,  8.,  4.,  4.,  5.,  7.,  3.,  4.,  2.,  3.,  0.,\n",
       "         0.],\n",
       "       [ 0.,  1.,  2.,  1.,  2.,  1.,  3.,  2.,  2.,  6., 10., 11.,  5.,\n",
       "         9.,  4.,  4.,  7., 16.,  8.,  6., 18.,  4., 12.,  5., 12.,  7.,\n",
       "        11.,  5., 11.,  3.,  3.,  5.,  4.,  4.,  5.,  5.,  1.,  1.,  0.,\n",
       "         1.],\n",
       "       [ 0.,  1.,  1.,  3.,  3.,  2.,  6.,  2.,  5.,  9.,  5.,  7.,  4.,\n",
       "         5.,  4., 15.,  5., 11.,  9., 10., 19., 14., 12., 17.,  7., 12.,\n",
       "        11.,  7.,  4.,  2., 10.,  5.,  4.,  2.,  2.,  3.,  2.,  2.,  1.,\n",
       "         1.]])"
      ]
     },
     "execution_count": 2,
     "metadata": {},
     "output_type": "execute_result"
    }
   ],
   "source": [
    "numpy.loadtxt(fname='inflammation.csv', delimiter=',')\n"
   ]
  },
  {
   "cell_type": "code",
   "execution_count": 4,
   "id": "07d47489",
   "metadata": {},
   "outputs": [
    {
     "ename": "NameError",
     "evalue": "name 'data' is not defined",
     "output_type": "error",
     "traceback": [
      "\u001b[0;31m---------------------------------------------------------------------------\u001b[0m",
      "\u001b[0;31mNameError\u001b[0m                                 Traceback (most recent call last)",
      "\u001b[0;32m/tmp/ipykernel_162789/927109222.py\u001b[0m in \u001b[0;36m<module>\u001b[0;34m\u001b[0m\n\u001b[0;32m----> 1\u001b[0;31m \u001b[0mprint\u001b[0m\u001b[0;34m(\u001b[0m\u001b[0mdata\u001b[0m\u001b[0;34m)\u001b[0m\u001b[0;34m\u001b[0m\u001b[0;34m\u001b[0m\u001b[0m\n\u001b[0m",
      "\u001b[0;31mNameError\u001b[0m: name 'data' is not defined"
     ]
    }
   ],
   "source": [
    "print(data)"
   ]
  },
  {
   "cell_type": "code",
   "execution_count": 5,
   "id": "f8d6102d",
   "metadata": {},
   "outputs": [],
   "source": [
    "data = numpy.loadtxt(fname='inflammation.csv', delimiter=',')\n"
   ]
  },
  {
   "cell_type": "code",
   "execution_count": 6,
   "id": "01afa66b",
   "metadata": {},
   "outputs": [
    {
     "name": "stdout",
     "output_type": "stream",
     "text": [
      "[[ 0.  0.  1.  3.  1.  2.  4.  7.  8.  3.  3.  3. 10.  5.  7.  4.  7.  7.\n",
      "  12. 18.  6. 13. 11. 11.  7.  7.  4.  6.  8.  8.  4.  4.  5.  7.  3.  4.\n",
      "   2.  3.  0.  0.]\n",
      " [ 0.  1.  2.  1.  2.  1.  3.  2.  2.  6. 10. 11.  5.  9.  4.  4.  7. 16.\n",
      "   8.  6. 18.  4. 12.  5. 12.  7. 11.  5. 11.  3.  3.  5.  4.  4.  5.  5.\n",
      "   1.  1.  0.  1.]\n",
      " [ 0.  1.  1.  3.  3.  2.  6.  2.  5.  9.  5.  7.  4.  5.  4. 15.  5. 11.\n",
      "   9. 10. 19. 14. 12. 17.  7. 12. 11.  7.  4.  2. 10.  5.  4.  2.  2.  3.\n",
      "   2.  2.  1.  1.]]\n"
     ]
    }
   ],
   "source": [
    "print(data)"
   ]
  },
  {
   "cell_type": "code",
   "execution_count": 7,
   "id": "af3bdd1d",
   "metadata": {},
   "outputs": [
    {
     "ename": "NameError",
     "evalue": "name 'matplotlib' is not defined",
     "output_type": "error",
     "traceback": [
      "\u001b[0;31m---------------------------------------------------------------------------\u001b[0m",
      "\u001b[0;31mNameError\u001b[0m                                 Traceback (most recent call last)",
      "\u001b[0;32m/tmp/ipykernel_162789/504374377.py\u001b[0m in \u001b[0;36m<module>\u001b[0;34m\u001b[0m\n\u001b[1;32m      1\u001b[0m \u001b[0mave_inflammation\u001b[0m \u001b[0;34m=\u001b[0m \u001b[0mnumpy\u001b[0m\u001b[0;34m.\u001b[0m\u001b[0mmean\u001b[0m\u001b[0;34m(\u001b[0m\u001b[0mdata\u001b[0m\u001b[0;34m,\u001b[0m \u001b[0maxis\u001b[0m\u001b[0;34m=\u001b[0m\u001b[0;36m0\u001b[0m\u001b[0;34m)\u001b[0m\u001b[0;34m\u001b[0m\u001b[0;34m\u001b[0m\u001b[0m\n\u001b[0;32m----> 2\u001b[0;31m \u001b[0mave_plot\u001b[0m \u001b[0;34m=\u001b[0m \u001b[0mmatplotlib\u001b[0m\u001b[0;34m.\u001b[0m\u001b[0mpyplot\u001b[0m\u001b[0;34m.\u001b[0m\u001b[0mplot\u001b[0m\u001b[0;34m(\u001b[0m\u001b[0mave_inflammation\u001b[0m\u001b[0;34m)\u001b[0m\u001b[0;34m\u001b[0m\u001b[0;34m\u001b[0m\u001b[0m\n\u001b[0m\u001b[1;32m      3\u001b[0m \u001b[0mmatplotlib\u001b[0m\u001b[0;34m.\u001b[0m\u001b[0mpyplot\u001b[0m\u001b[0;34m.\u001b[0m\u001b[0mshow\u001b[0m\u001b[0;34m(\u001b[0m\u001b[0;34m)\u001b[0m\u001b[0;34m\u001b[0m\u001b[0;34m\u001b[0m\u001b[0m\n",
      "\u001b[0;31mNameError\u001b[0m: name 'matplotlib' is not defined"
     ]
    }
   ],
   "source": [
    "ave_inflammation = numpy.mean(data, axis=0)\n",
    "ave_plot = matplotlib.pyplot.plot(ave_inflammation)\n",
    "matplotlib.pyplot.show()\n"
   ]
  },
  {
   "cell_type": "code",
   "execution_count": 8,
   "id": "4ca1b476",
   "metadata": {},
   "outputs": [],
   "source": [
    "import matplotlib.pyplot\n"
   ]
  },
  {
   "cell_type": "code",
   "execution_count": 14,
   "id": "3180ed06",
   "metadata": {
    "scrolled": false
   },
   "outputs": [
    {
     "data": {
      "image/png": "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\n",
      "text/plain": [
       "<Figure size 640x480 with 1 Axes>"
      ]
     },
     "metadata": {},
     "output_type": "display_data"
    }
   ],
   "source": [
    "ave_inflammation = numpy.mean(data, axis=0)\n",
    "ave_plot = matplotlib.pyplot.plot(ave_inflammation)\n",
    "matplotlib.pyplot.show()\n"
   ]
  },
  {
   "cell_type": "code",
   "execution_count": 20,
   "id": "9576555e",
   "metadata": {},
   "outputs": [
    {
     "data": {
      "image/png": "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\n",
      "text/plain": [
       "<Figure size 640x480 with 1 Axes>"
      ]
     },
     "metadata": {},
     "output_type": "display_data"
    }
   ],
   "source": [
    "max_plot = matplotlib.pyplot.plot(numpy.max(data, axis=0))\n",
    "matplotlib.pyplot.show()"
   ]
  },
  {
   "cell_type": "code",
   "execution_count": 19,
   "id": "71b71bab",
   "metadata": {},
   "outputs": [
    {
     "data": {
      "image/png": "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\n",
      "text/plain": [
       "<Figure size 640x480 with 1 Axes>"
      ]
     },
     "metadata": {},
     "output_type": "display_data"
    }
   ],
   "source": [
    "min_plot = matplotlib.pyplot.plot(numpy.min(data, axis=0))\n",
    "matplotlib.pyplot.show()\n"
   ]
  },
  {
   "cell_type": "code",
   "execution_count": 21,
   "id": "60c1f70c",
   "metadata": {},
   "outputs": [
    {
     "name": "stdout",
     "output_type": "stream",
     "text": [
      "odds are: [1, 3, 5, 7]\n"
     ]
    }
   ],
   "source": [
    "odds = [1, 3, 5, 7]\n",
    "print('odds are:', odds)"
   ]
  },
  {
   "cell_type": "code",
   "execution_count": 61,
   "id": "d16843dc",
   "metadata": {},
   "outputs": [
    {
     "name": "stdout",
     "output_type": "stream",
     "text": [
      "first element: 3\n",
      "last element: 3\n",
      "\"-1\" element: 1\n"
     ]
    }
   ],
   "source": [
    "print('first element:', odds[0])\n",
    "print('last element:', odds[-4])\n",
    "print('\"-1\" element:', odds[-1])\n"
   ]
  },
  {
   "cell_type": "code",
   "execution_count": 27,
   "id": "3553c782",
   "metadata": {},
   "outputs": [
    {
     "name": "stdout",
     "output_type": "stream",
     "text": [
      "odds after adding a value: [1, 3, 5, 7, 11]\n"
     ]
    }
   ],
   "source": [
    "odds.append(11)\n",
    "print('odds after adding a value:', odds)\n",
    "\n"
   ]
  },
  {
   "cell_type": "code",
   "execution_count": 28,
   "id": "3c2c2e23",
   "metadata": {},
   "outputs": [
    {
     "name": "stdout",
     "output_type": "stream",
     "text": [
      "odds after removing the first element: [3, 5, 7, 11]\n",
      "removed_element: 1\n"
     ]
    }
   ],
   "source": [
    "removed_element = odds.pop(0)\n",
    "print('odds after removing the first element:', odds)\n",
    "print('removed_element:', removed_element)\n"
   ]
  },
  {
   "cell_type": "code",
   "execution_count": 32,
   "id": "af582d9a",
   "metadata": {},
   "outputs": [
    {
     "name": "stdout",
     "output_type": "stream",
     "text": [
      "primes: [3, 5, 7, 1]\n",
      "odds: [3, 5, 7, 1]\n"
     ]
    }
   ],
   "source": [
    "odds = [3, 5, 7]\n",
    "primes = odds\n",
    "primes.append(1)\n",
    "print('primes:', primes)\n",
    "print('odds:', odds)\n"
   ]
  },
  {
   "cell_type": "code",
   "execution_count": 41,
   "id": "092811da",
   "metadata": {},
   "outputs": [
    {
     "name": "stdout",
     "output_type": "stream",
     "text": [
      "group: Drosophila\n",
      "species: melanogaster\n",
      "autosomes: ['2', '3', '4']\n",
      "last: 4\n"
     ]
    }
   ],
   "source": [
    "binomial_name = 'Drosophila melanogaster'\n",
    "group = binomial_name[0:10] #lange des namens\n",
    "print('group:', group)\n",
    "\n",
    "species = binomial_name[11:23]\n",
    "print('species:', species)\n",
    "\n",
    "chromosomes = ['X', 'Y', '2', '3', '4']\n",
    "autosomes = chromosomes[2:5]\n",
    "print('autosomes:', autosomes)\n",
    "\n",
    "last = chromosomes[-1]\n",
    "print('last:', last)\n"
   ]
  },
  {
   "cell_type": "code",
   "execution_count": 60,
   "id": "97b439b4",
   "metadata": {},
   "outputs": [
    {
     "name": "stdout",
     "output_type": "stream",
     "text": [
      "Thu Jan 19 10:00:17 2023\n"
     ]
    }
   ],
   "source": [
    "import time\n",
    "print(time.ctime())"
   ]
  },
  {
   "cell_type": "code",
   "execution_count": 57,
   "id": "75d5eae1",
   "metadata": {},
   "outputs": [
    {
     "ename": "SyntaxError",
     "evalue": "invalid syntax (3246436887.py, line 1)",
     "output_type": "error",
     "traceback": [
      "\u001b[0;36m  File \u001b[0;32m\"/tmp/ipykernel_162789/3246436887.py\"\u001b[0;36m, line \u001b[0;32m1\u001b[0m\n\u001b[0;31m    x = import time\u001b[0m\n\u001b[0m        ^\u001b[0m\n\u001b[0;31mSyntaxError\u001b[0m\u001b[0;31m:\u001b[0m invalid syntax\n"
     ]
    }
   ],
   "source": [
    "x = import time\n",
    "date = 'x'\n",
    "day = date[0:6]\n",
    "print('Using 0 to begin range:', day)\n",
    "day = date[:6]\n",
    "print('Omitting beginning index:', day)\n",
    "\n"
   ]
  },
  {
   "cell_type": "code",
   "execution_count": 58,
   "id": "f95a3fba",
   "metadata": {},
   "outputs": [
    {
     "name": "stdout",
     "output_type": "stream",
     "text": [
      "With known last position: ['sep', 'oct', 'nov', 'dec']\n",
      "Using len() to get last entry: ['sep', 'oct', 'nov', 'dec']\n",
      "Omitting ending index: ['sep', 'oct', 'nov', 'dec']\n"
     ]
    }
   ],
   "source": [
    "months = ['jan', 'feb', 'mar', 'apr', 'may', 'jun', 'jul', 'aug', 'sep', 'oct', 'nov', 'dec']\n",
    "sond = months[8:12]\n",
    "print('With known last position:', sond)\n",
    "sond = months[8:len(months)]\n",
    "print('Using len() to get last entry:', sond)\n",
    "sond = months[8:]\n",
    "print('Omitting ending index:', sond)\n",
    "\n"
   ]
  },
  {
   "cell_type": "code",
   "execution_count": 62,
   "id": "ec06d6ac",
   "metadata": {},
   "outputs": [
    {
     "name": "stdout",
     "output_type": "stream",
     "text": [
      "1\n",
      "3\n",
      "5\n",
      "7\n",
      "9\n",
      "11\n"
     ]
    }
   ],
   "source": [
    "odds = [1, 3, 5, 7, 9, 11]\n",
    "for num in odds:\n",
    "    print(num)\n",
    "\n"
   ]
  },
  {
   "cell_type": "code",
   "execution_count": 63,
   "id": "1560d586",
   "metadata": {},
   "outputs": [
    {
     "name": "stdout",
     "output_type": "stream",
     "text": [
      "1\n",
      "3\n",
      "5\n",
      "7\n",
      "9\n",
      "11\n"
     ]
    }
   ],
   "source": [
    "odds = [1, 3, 5, 7, 9, 11]\n",
    "for banana in odds:\n",
    "    print(banana)\n",
    "\n"
   ]
  },
  {
   "cell_type": "code",
   "execution_count": 65,
   "id": "4d52cc11",
   "metadata": {},
   "outputs": [
    {
     "name": "stdout",
     "output_type": "stream",
     "text": [
      "There are 4 names in the list.\n"
     ]
    }
   ],
   "source": [
    "length = 0\n",
    "names = ['Curie', 'Darwin', 'Turing', 'a']\n",
    "for value in names:\n",
    "    length = length + 1\n",
    "print('There are', length, 'names in the list.')\n"
   ]
  },
  {
   "cell_type": "code",
   "execution_count": 66,
   "id": "6537f15a",
   "metadata": {},
   "outputs": [
    {
     "ename": "NameError",
     "evalue": "name 'glob' is not defined",
     "output_type": "error",
     "traceback": [
      "\u001b[0;31m---------------------------------------------------------------------------\u001b[0m",
      "\u001b[0;31mNameError\u001b[0m                                 Traceback (most recent call last)",
      "\u001b[0;32m/tmp/ipykernel_162789/2224524067.py\u001b[0m in \u001b[0;36m<module>\u001b[0;34m\u001b[0m\n\u001b[0;32m----> 1\u001b[0;31m \u001b[0mprint\u001b[0m\u001b[0;34m(\u001b[0m\u001b[0mglob\u001b[0m\u001b[0;34m.\u001b[0m\u001b[0mglob\u001b[0m\u001b[0;34m(\u001b[0m\u001b[0;34m'inflammation*.csv'\u001b[0m\u001b[0;34m)\u001b[0m\u001b[0;34m)\u001b[0m\u001b[0;34m\u001b[0m\u001b[0;34m\u001b[0m\u001b[0m\n\u001b[0m",
      "\u001b[0;31mNameError\u001b[0m: name 'glob' is not defined"
     ]
    }
   ],
   "source": [
    "print(glob.glob('inflammation*.csv'))\n"
   ]
  },
  {
   "cell_type": "code",
   "execution_count": 67,
   "id": "bac8fa6d",
   "metadata": {},
   "outputs": [],
   "source": [
    "import glob\n"
   ]
  },
  {
   "cell_type": "code",
   "execution_count": 68,
   "id": "b185b671",
   "metadata": {},
   "outputs": [
    {
     "name": "stdout",
     "output_type": "stream",
     "text": [
      "['inflammation2.csv', 'inflammation1.csv', 'inflammation0.csv', 'inflammation.csv']\n"
     ]
    }
   ],
   "source": [
    "print(glob.glob('inflammation*.csv'))\n"
   ]
  },
  {
   "cell_type": "code",
   "execution_count": 69,
   "id": "1c263bb2",
   "metadata": {},
   "outputs": [
    {
     "name": "stdout",
     "output_type": "stream",
     "text": [
      "inflammation.csv\n"
     ]
    },
    {
     "data": {
      "image/png": "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\n",
      "text/plain": [
       "<Figure size 1000x300 with 3 Axes>"
      ]
     },
     "metadata": {},
     "output_type": "display_data"
    },
    {
     "name": "stdout",
     "output_type": "stream",
     "text": [
      "inflammation0.csv\n"
     ]
    },
    {
     "data": {
      "image/png": "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\n",
      "text/plain": [
       "<Figure size 1000x300 with 3 Axes>"
      ]
     },
     "metadata": {},
     "output_type": "display_data"
    },
    {
     "name": "stdout",
     "output_type": "stream",
     "text": [
      "inflammation1.csv\n"
     ]
    },
    {
     "data": {
      "image/png": "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\n",
      "text/plain": [
       "<Figure size 1000x300 with 3 Axes>"
      ]
     },
     "metadata": {},
     "output_type": "display_data"
    }
   ],
   "source": [
    "filenames = sorted(glob.glob('inflammation*.csv'))\n",
    "filenames = filenames[0:3]\n",
    "for filename in filenames:\n",
    "    print(filename)\n",
    "\n",
    "    data = numpy.loadtxt(fname=filename, delimiter=',')\n",
    "\n",
    "    fig = matplotlib.pyplot.figure(figsize=(10.0, 3.0))\n",
    "\n",
    "    axes1 = fig.add_subplot(1, 3, 1)\n",
    "    axes2 = fig.add_subplot(1, 3, 2)\n",
    "    axes3 = fig.add_subplot(1, 3, 3)\n",
    "\n",
    "    axes1.set_ylabel('average')\n",
    "    axes1.plot(numpy.mean(data, axis=0))\n",
    "\n",
    "    axes2.set_ylabel('max')\n",
    "    axes2.plot(numpy.max(data, axis=0))\n",
    "\n",
    "    axes3.set_ylabel('min')\n",
    "    axes3.plot(numpy.min(data, axis=0))\n",
    "\n",
    "    fig.tight_layout()\n",
    "    matplotlib.pyplot.show()\n"
   ]
  },
  {
   "cell_type": "code",
   "execution_count": 75,
   "id": "b1e5b012",
   "metadata": {},
   "outputs": [
    {
     "name": "stdout",
     "output_type": "stream",
     "text": [
      "not greater\n",
      "done\n"
     ]
    }
   ],
   "source": [
    "num = 4\n",
    "if num >= 100:\n",
    "    print('greater')\n",
    "else:\n",
    "    print('not greater')\n",
    "print('done')\n",
    "\n"
   ]
  },
  {
   "cell_type": "code",
   "execution_count": 82,
   "id": "0da254ff",
   "metadata": {},
   "outputs": [
    {
     "name": "stdout",
     "output_type": "stream",
     "text": [
      "0 is zero\n"
     ]
    }
   ],
   "source": [
    "brot = 0\n",
    "\n",
    "if brot > 0:\n",
    "    print(brot, 'is positive')\n",
    "elif brot == 0:\n",
    "    print(brot, 'is zero')\n",
    "else:\n",
    "    print('brot', brot, 'is negative')\n",
    "\n"
   ]
  },
  {
   "cell_type": "code",
   "execution_count": 87,
   "id": "c3fbe6b2",
   "metadata": {},
   "outputs": [
    {
     "name": "stdout",
     "output_type": "stream",
     "text": [
      "Seems OK!\n"
     ]
    }
   ],
   "source": [
    "max_inflammation_0 = numpy.max(data, axis=0)[0]\n",
    "max_inflammation_20 = numpy.max(data, axis=0)[20]\n",
    "if max_inflammation_0 == 0 and max_inflammation_20 == 20:\n",
    "    print('Suspicious looking maxima!')\n",
    "elif numpy.sum(numpy.min(data, axis=0)) == 0:\n",
    "    print('Minima add up to zero!')\n",
    "else:\n",
    "    print('Seems OK!')\n",
    "\n"
   ]
  },
  {
   "cell_type": "code",
   "execution_count": 89,
   "id": "3df8669d",
   "metadata": {},
   "outputs": [
    {
     "name": "stdout",
     "output_type": "stream",
     "text": [
      "Seems OK!\n"
     ]
    }
   ],
   "source": [
    "data = numpy.loadtxt(fname='inflammation.csv', delimiter=',')\n",
    "\n",
    "max_inflammation_0 = numpy.max(data, axis=0)[0]\n",
    "max_inflammation_20 = numpy.max(data, axis=0)[20]\n",
    "\n",
    "if max_inflammation_0 == 0 and max_inflammation_20 == 20:\n",
    "    print('Suspicious looking maxima!')\n",
    "elif numpy.sum(numpy.min(data, axis=0)) == 0:\n",
    "    print('Minima add up to zero!')\n",
    "else:\n",
    "    print('Seems OK!')\n",
    "\n"
   ]
  },
  {
   "cell_type": "code",
   "execution_count": 91,
   "id": "9364727e",
   "metadata": {},
   "outputs": [
    {
     "name": "stdout",
     "output_type": "stream",
     "text": [
      "Seems OK!\n"
     ]
    }
   ],
   "source": [
    "data = numpy.loadtxt(fname='inflammation1.csv', delimiter=',')\n",
    "\n",
    "max_inflammation_0 = numpy.max(data, axis=0)[0]\n",
    "max_inflammation_20 = numpy.max(data, axis=0)[20]\n",
    "\n",
    "if max_inflammation_0 == 0 and max_inflammation_20 == 20:\n",
    "    print('Suspicious looking maxima!')\n",
    "elif numpy.sum(numpy.min(data, axis=0)) == 0:\n",
    "    print('Minima add up to zero!')\n",
    "else:\n",
    "    print('Seems OK!')\n"
   ]
  },
  {
   "cell_type": "code",
   "execution_count": 92,
   "id": "a7a6098c",
   "metadata": {},
   "outputs": [
    {
     "name": "stdout",
     "output_type": "stream",
     "text": [
      "Seems OK!\n"
     ]
    }
   ],
   "source": [
    "data = numpy.loadtxt(fname='inflammation0.csv', delimiter=',')\n",
    "\n",
    "max_inflammation_0 = numpy.max(data, axis=0)[0]\n",
    "max_inflammation_20 = numpy.max(data, axis=0)[20]\n",
    "\n",
    "if max_inflammation_0 == 0 and max_inflammation_20 == 20:\n",
    "    print('Suspicious looking maxima!')\n",
    "elif numpy.sum(numpy.min(data, axis=0)) == 0:\n",
    "    print('Minima add up to zero!')\n",
    "else:\n",
    "    print('Seems OK!')\n"
   ]
  },
  {
   "cell_type": "code",
   "execution_count": 93,
   "id": "c25de5e3",
   "metadata": {},
   "outputs": [
    {
     "name": "stdout",
     "output_type": "stream",
     "text": [
      "word is true\n",
      "non-empty list is true\n",
      "one is true\n"
     ]
    }
   ],
   "source": [
    "if '':\n",
    "    print('empty string is true')\n",
    "if 'word':\n",
    "    print('word is true')\n",
    "if []:\n",
    "    print('empty list is true')\n",
    "if [1, 2, 3]:\n",
    "    print('non-empty list is true')\n",
    "if 0:\n",
    "    print('zero is true')\n",
    "if 1:\n",
    "    print('one is true')\n",
    "\n"
   ]
  },
  {
   "cell_type": "code",
   "execution_count": 96,
   "id": "8ef043f4",
   "metadata": {},
   "outputs": [
    {
     "name": "stdout",
     "output_type": "stream",
     "text": [
      "freezing point of water: 0.0 C\n",
      "boiling point of water: 100.0 C\n"
     ]
    }
   ],
   "source": [
    "def fahr_to_celsius(temp):\n",
    "    return ((temp - 32) * (5/9))\n",
    "fahr_to_celsius(32)\n",
    "print('freezing point of water:', fahr_to_celsius(32), 'C')\n",
    "print('boiling point of water:', fahr_to_celsius(212), 'C')\n",
    "\n",
    "\n"
   ]
  },
  {
   "cell_type": "code",
   "execution_count": 100,
   "id": "b9c04164",
   "metadata": {},
   "outputs": [
    {
     "name": "stdout",
     "output_type": "stream",
     "text": [
      "freezing point of water in Kelvin: 273.15 C\n"
     ]
    }
   ],
   "source": [
    "def celsius_to_kelvin(temp_c):\n",
    "    return temp_c + 273.15\n",
    "\n",
    "print('freezing point of water in Kelvin:', celsius_to_kelvin(0.), 'C')\n",
    "\n"
   ]
  },
  {
   "cell_type": "code",
   "execution_count": 101,
   "id": "a82f8829",
   "metadata": {},
   "outputs": [],
   "source": [
    "def visualize(filename):\n",
    "\n",
    "    data = numpy.loadtxt(fname=filename, delimiter=',')\n",
    "\n",
    "    fig = matplotlib.pyplot.figure(figsize=(10.0, 3.0))\n",
    "\n",
    "    axes1 = fig.add_subplot(1, 3, 1)\n",
    "    axes2 = fig.add_subplot(1, 3, 2)\n",
    "    axes3 = fig.add_subplot(1, 3, 3)\n",
    "\n",
    "    axes1.set_ylabel('average')\n",
    "    axes1.plot(numpy.mean(data, axis=0))\n",
    "\n",
    "    axes2.set_ylabel('max')\n",
    "    axes2.plot(numpy.max(data, axis=0))\n",
    "\n",
    "    axes3.set_ylabel('min')\n",
    "    axes3.plot(numpy.min(data, axis=0))\n",
    "\n",
    "    fig.tight_layout()\n",
    "    matplotlib.pyplot.show()\n"
   ]
  },
  {
   "cell_type": "code",
   "execution_count": 102,
   "id": "d61c6269",
   "metadata": {},
   "outputs": [],
   "source": [
    "def detect_problems(filename):\n",
    "\n",
    "    data = numpy.loadtxt(fname=filename, delimiter=',')\n",
    "\n",
    "    if numpy.max(data, axis=0)[0] == 0 and numpy.max(data, axis=0)[20] == 20:\n",
    "        print('Suspicious looking maxima!')\n",
    "    elif numpy.sum(numpy.min(data, axis=0)) == 0:\n",
    "        print('Minima add up to zero!')\n",
    "    else:\n",
    "        print('Seems OK!')\n"
   ]
  },
  {
   "cell_type": "code",
   "execution_count": 103,
   "id": "2535a868",
   "metadata": {},
   "outputs": [
    {
     "ename": "NameError",
     "evalue": "name 'offset_mean' is not defined",
     "output_type": "error",
     "traceback": [
      "\u001b[0;31m---------------------------------------------------------------------------\u001b[0m",
      "\u001b[0;31mNameError\u001b[0m                                 Traceback (most recent call last)",
      "\u001b[0;32m/tmp/ipykernel_162789/2162801655.py\u001b[0m in \u001b[0;36m<module>\u001b[0;34m\u001b[0m\n\u001b[1;32m      1\u001b[0m \u001b[0mdata\u001b[0m \u001b[0;34m=\u001b[0m \u001b[0mnumpy\u001b[0m\u001b[0;34m.\u001b[0m\u001b[0mloadtxt\u001b[0m\u001b[0;34m(\u001b[0m\u001b[0mfname\u001b[0m\u001b[0;34m=\u001b[0m\u001b[0;34m'inflammation.csv'\u001b[0m\u001b[0;34m,\u001b[0m \u001b[0mdelimiter\u001b[0m\u001b[0;34m=\u001b[0m\u001b[0;34m','\u001b[0m\u001b[0;34m)\u001b[0m\u001b[0;34m\u001b[0m\u001b[0;34m\u001b[0m\u001b[0m\n\u001b[0;32m----> 2\u001b[0;31m \u001b[0mprint\u001b[0m\u001b[0;34m(\u001b[0m\u001b[0moffset_mean\u001b[0m\u001b[0;34m(\u001b[0m\u001b[0mdata\u001b[0m\u001b[0;34m,\u001b[0m \u001b[0;36m0\u001b[0m\u001b[0;34m)\u001b[0m\u001b[0;34m)\u001b[0m\u001b[0;34m\u001b[0m\u001b[0;34m\u001b[0m\u001b[0m\n\u001b[0m\u001b[1;32m      3\u001b[0m \u001b[0;34m\u001b[0m\u001b[0m\n",
      "\u001b[0;31mNameError\u001b[0m: name 'offset_mean' is not defined"
     ]
    }
   ],
   "source": []
  },
  {
   "cell_type": "code",
   "execution_count": 104,
   "id": "93c42c2c",
   "metadata": {},
   "outputs": [
    {
     "ename": "NameError",
     "evalue": "name 'offset_mean' is not defined",
     "output_type": "error",
     "traceback": [
      "\u001b[0;31m---------------------------------------------------------------------------\u001b[0m",
      "\u001b[0;31mNameError\u001b[0m                                 Traceback (most recent call last)",
      "\u001b[0;32m/tmp/ipykernel_162789/2545767979.py\u001b[0m in \u001b[0;36m<module>\u001b[0;34m\u001b[0m\n\u001b[1;32m      1\u001b[0m \u001b[0mz\u001b[0m \u001b[0;34m=\u001b[0m \u001b[0mnumpy\u001b[0m\u001b[0;34m.\u001b[0m\u001b[0mzeros\u001b[0m\u001b[0;34m(\u001b[0m\u001b[0;34m(\u001b[0m\u001b[0;36m2\u001b[0m\u001b[0;34m,\u001b[0m\u001b[0;36m2\u001b[0m\u001b[0;34m)\u001b[0m\u001b[0;34m)\u001b[0m\u001b[0;34m\u001b[0m\u001b[0;34m\u001b[0m\u001b[0m\n\u001b[0;32m----> 2\u001b[0;31m \u001b[0mprint\u001b[0m\u001b[0;34m(\u001b[0m\u001b[0moffset_mean\u001b[0m\u001b[0;34m(\u001b[0m\u001b[0mz\u001b[0m\u001b[0;34m,\u001b[0m \u001b[0;36m3\u001b[0m\u001b[0;34m)\u001b[0m\u001b[0;34m)\u001b[0m\u001b[0;34m\u001b[0m\u001b[0;34m\u001b[0m\u001b[0m\n\u001b[0m\u001b[1;32m      3\u001b[0m \u001b[0;34m\u001b[0m\u001b[0m\n",
      "\u001b[0;31mNameError\u001b[0m: name 'offset_mean' is not defined"
     ]
    }
   ],
   "source": []
  },
  {
   "cell_type": "code",
   "execution_count": 105,
   "id": "8e8d3ec7",
   "metadata": {},
   "outputs": [],
   "source": [
    "def offset_mean(data, target_mean_value):\n",
    "    return (data - numpy.mean(data)) + target_mean_value\n"
   ]
  },
  {
   "cell_type": "code",
   "execution_count": 106,
   "id": "1ed1d02a",
   "metadata": {
    "scrolled": false
   },
   "outputs": [
    {
     "name": "stdout",
     "output_type": "stream",
     "text": [
      "[[3. 3.]\n",
      " [3. 3.]]\n"
     ]
    }
   ],
   "source": [
    "z = numpy.zeros((2,2))\n",
    "print(offset_mean(z, 3))\n",
    "\n"
   ]
  },
  {
   "cell_type": "code",
   "execution_count": 107,
   "id": "978e1e26",
   "metadata": {
    "scrolled": false
   },
   "outputs": [
    {
     "name": "stdout",
     "output_type": "stream",
     "text": [
      "[[-5.65833333 -5.65833333 -4.65833333 -2.65833333 -4.65833333 -3.65833333\n",
      "  -1.65833333  1.34166667  2.34166667 -2.65833333 -2.65833333 -2.65833333\n",
      "   4.34166667 -0.65833333  1.34166667 -1.65833333  1.34166667  1.34166667\n",
      "   6.34166667 12.34166667  0.34166667  7.34166667  5.34166667  5.34166667\n",
      "   1.34166667  1.34166667 -1.65833333  0.34166667  2.34166667  2.34166667\n",
      "  -1.65833333 -1.65833333 -0.65833333  1.34166667 -2.65833333 -1.65833333\n",
      "  -3.65833333 -2.65833333 -5.65833333 -5.65833333]\n",
      " [-5.65833333 -4.65833333 -3.65833333 -4.65833333 -3.65833333 -4.65833333\n",
      "  -2.65833333 -3.65833333 -3.65833333  0.34166667  4.34166667  5.34166667\n",
      "  -0.65833333  3.34166667 -1.65833333 -1.65833333  1.34166667 10.34166667\n",
      "   2.34166667  0.34166667 12.34166667 -1.65833333  6.34166667 -0.65833333\n",
      "   6.34166667  1.34166667  5.34166667 -0.65833333  5.34166667 -2.65833333\n",
      "  -2.65833333 -0.65833333 -1.65833333 -1.65833333 -0.65833333 -0.65833333\n",
      "  -4.65833333 -4.65833333 -5.65833333 -4.65833333]\n",
      " [-5.65833333 -4.65833333 -4.65833333 -2.65833333 -2.65833333 -3.65833333\n",
      "   0.34166667 -3.65833333 -0.65833333  3.34166667 -0.65833333  1.34166667\n",
      "  -1.65833333 -0.65833333 -1.65833333  9.34166667 -0.65833333  5.34166667\n",
      "   3.34166667  4.34166667 13.34166667  8.34166667  6.34166667 11.34166667\n",
      "   1.34166667  6.34166667  5.34166667  1.34166667 -1.65833333 -3.65833333\n",
      "   4.34166667 -0.65833333 -1.65833333 -3.65833333 -3.65833333 -2.65833333\n",
      "  -3.65833333 -3.65833333 -4.65833333 -4.65833333]]\n"
     ]
    }
   ],
   "source": [
    "data = numpy.loadtxt(fname='inflammation.csv', delimiter=',')\n",
    "print(offset_mean(data, 0))\n",
    "\n"
   ]
  },
  {
   "cell_type": "code",
   "execution_count": 108,
   "id": "90fbe3e7",
   "metadata": {},
   "outputs": [
    {
     "name": "stdout",
     "output_type": "stream",
     "text": [
      "original min, mean, and max are: 0.0 5.658333333333333 19.0\n",
      "min, mean, and max of offset data are: -5.658333333333333 1.1842378929335003e-16 13.341666666666667\n"
     ]
    }
   ],
   "source": [
    "print('original min, mean, and max are:', numpy.min(data), numpy.mean(data), numpy.max(data))\n",
    "offset_data = offset_mean(data, 0)\n",
    "print('min, mean, and max of offset data are:',\n",
    "      numpy.min(offset_data),\n",
    "      numpy.mean(offset_data),\n",
    "      numpy.max(offset_data))\n"
   ]
  },
  {
   "cell_type": "code",
   "execution_count": 109,
   "id": "917a4bac",
   "metadata": {},
   "outputs": [],
   "source": [
    "def offset_mean(data, target_mean_value):\n",
    "    return (data - numpy.mean(data)) + target_mean_value"
   ]
  },
  {
   "cell_type": "code",
   "execution_count": 110,
   "id": "50ac61ec",
   "metadata": {},
   "outputs": [],
   "source": [
    "def offset_mean(data, target_mean_value=0.0):\n",
    "    \"\"\"Return a new array containing the original data\n",
    "       with its mean offset to match the desired value, (0 by default).\n",
    "\n",
    "    Examples\n",
    "    --------\n",
    "    >>> offset_mean([1, 2, 3])\n",
    "    array([-1.,  0.,  1.])\n",
    "    \"\"\"\n",
    "    return (data - numpy.mean(data)) + target_mean_value\n"
   ]
  },
  {
   "cell_type": "code",
   "execution_count": 111,
   "id": "12a4b1bb",
   "metadata": {},
   "outputs": [
    {
     "name": "stdout",
     "output_type": "stream",
     "text": [
      "[[3. 3.]\n",
      " [3. 3.]]\n"
     ]
    }
   ],
   "source": [
    "test_data = numpy.zeros((2, 2))\n",
    "print(offset_mean(test_data, 3))\n",
    "\n"
   ]
  },
  {
   "cell_type": "code",
   "execution_count": 112,
   "id": "b8b5b616",
   "metadata": {},
   "outputs": [
    {
     "name": "stdout",
     "output_type": "stream",
     "text": [
      "data before mean offset:\n",
      "[[5. 5.]\n",
      " [5. 5.]]\n",
      "offset data:\n",
      "[[0. 0.]\n",
      " [0. 0.]]\n"
     ]
    }
   ],
   "source": [
    "more_data = 5 + numpy.zeros((2, 2))\n",
    "print('data before mean offset:')\n",
    "print(more_data)\n",
    "print('offset data:')\n",
    "print(offset_mean(more_data))\n"
   ]
  },
  {
   "cell_type": "code",
   "execution_count": 113,
   "id": "93a66960",
   "metadata": {},
   "outputs": [
    {
     "name": "stdout",
     "output_type": "stream",
     "text": [
      "no parameters:\n",
      "a: 1 b: 2 c: 3\n",
      "one parameter:\n",
      "a: 55 b: 2 c: 3\n",
      "two parameters:\n",
      "a: 55 b: 66 c: 3\n"
     ]
    }
   ],
   "source": [
    "def display(a=1, b=2, c=3):\n",
    "    print('a:', a, 'b:', b, 'c:', c)\n",
    "\n",
    "print('no parameters:')\n",
    "display()\n",
    "print('one parameter:')\n",
    "display(55)\n",
    "print('two parameters:')\n",
    "display(55, 66)\n"
   ]
  },
  {
   "cell_type": "code",
   "execution_count": 114,
   "id": "45fd008b",
   "metadata": {},
   "outputs": [],
   "source": [
    "def s(p):\n",
    "    a = 0\n",
    "    for v in p:\n",
    "        a += v\n",
    "    m = a / len(p)\n",
    "    d = 0\n",
    "    for v in p:\n",
    "        d += (v - m) * (v - m)\n",
    "    return numpy.sqrt(d / (len(p) - 1))\n",
    "\n",
    "def std_dev(sample):\n",
    "    sample_sum = 0\n",
    "    for value in sample:\n",
    "        sample_sum += value\n",
    "\n",
    "    sample_mean = sample_sum / len(sample)\n",
    "\n",
    "    sum_squared_devs = 0\n",
    "    for value in sample:\n",
    "        sum_squared_devs += (value - sample_mean) * (value - sample_mean)\n",
    "\n",
    "    return numpy.sqrt(sum_squared_devs / (len(sample) - 1))\n"
   ]
  },
  {
   "cell_type": "code",
   "execution_count": 115,
   "id": "b3af7484",
   "metadata": {},
   "outputs": [],
   "source": [
    "def test_range_overlap():\n",
    "    assert range_overlap([ (0.0, 1.0), (5.0, 6.0) ]) == None\n",
    "    assert range_overlap([ (0.0, 1.0), (1.0, 2.0) ]) == None\n",
    "    assert range_overlap([ (0.0, 1.0) ]) == (0.0, 1.0)\n",
    "    assert range_overlap([ (2.0, 3.0), (2.0, 4.0) ]) == (2.0, 3.0)\n",
    "    assert range_overlap([ (0.0, 1.0), (0.0, 2.0), (-1.0, 1.0) ]) == (0.0, 1.0)\n",
    "    assert range_overlap([]) == None\n"
   ]
  },
  {
   "cell_type": "code",
   "execution_count": 116,
   "id": "396fb839",
   "metadata": {},
   "outputs": [
    {
     "ename": "NameError",
     "evalue": "name 'range_overlap' is not defined",
     "output_type": "error",
     "traceback": [
      "\u001b[0;31m---------------------------------------------------------------------------\u001b[0m",
      "\u001b[0;31mNameError\u001b[0m                                 Traceback (most recent call last)",
      "\u001b[0;32m/tmp/ipykernel_162789/2885631781.py\u001b[0m in \u001b[0;36m<module>\u001b[0;34m\u001b[0m\n\u001b[0;32m----> 1\u001b[0;31m \u001b[0mtest_range_overlap\u001b[0m\u001b[0;34m(\u001b[0m\u001b[0;34m)\u001b[0m\u001b[0;34m\u001b[0m\u001b[0;34m\u001b[0m\u001b[0m\n\u001b[0m",
      "\u001b[0;32m/tmp/ipykernel_162789/3283688406.py\u001b[0m in \u001b[0;36mtest_range_overlap\u001b[0;34m()\u001b[0m\n\u001b[1;32m      1\u001b[0m \u001b[0;32mdef\u001b[0m \u001b[0mtest_range_overlap\u001b[0m\u001b[0;34m(\u001b[0m\u001b[0;34m)\u001b[0m\u001b[0;34m:\u001b[0m\u001b[0;34m\u001b[0m\u001b[0;34m\u001b[0m\u001b[0m\n\u001b[0;32m----> 2\u001b[0;31m     \u001b[0;32massert\u001b[0m \u001b[0mrange_overlap\u001b[0m\u001b[0;34m(\u001b[0m\u001b[0;34m[\u001b[0m \u001b[0;34m(\u001b[0m\u001b[0;36m0.0\u001b[0m\u001b[0;34m,\u001b[0m \u001b[0;36m1.0\u001b[0m\u001b[0;34m)\u001b[0m\u001b[0;34m,\u001b[0m \u001b[0;34m(\u001b[0m\u001b[0;36m5.0\u001b[0m\u001b[0;34m,\u001b[0m \u001b[0;36m6.0\u001b[0m\u001b[0;34m)\u001b[0m \u001b[0;34m]\u001b[0m\u001b[0;34m)\u001b[0m \u001b[0;34m==\u001b[0m \u001b[0;32mNone\u001b[0m\u001b[0;34m\u001b[0m\u001b[0;34m\u001b[0m\u001b[0m\n\u001b[0m\u001b[1;32m      3\u001b[0m     \u001b[0;32massert\u001b[0m \u001b[0mrange_overlap\u001b[0m\u001b[0;34m(\u001b[0m\u001b[0;34m[\u001b[0m \u001b[0;34m(\u001b[0m\u001b[0;36m0.0\u001b[0m\u001b[0;34m,\u001b[0m \u001b[0;36m1.0\u001b[0m\u001b[0;34m)\u001b[0m\u001b[0;34m,\u001b[0m \u001b[0;34m(\u001b[0m\u001b[0;36m1.0\u001b[0m\u001b[0;34m,\u001b[0m \u001b[0;36m2.0\u001b[0m\u001b[0;34m)\u001b[0m \u001b[0;34m]\u001b[0m\u001b[0;34m)\u001b[0m \u001b[0;34m==\u001b[0m \u001b[0;32mNone\u001b[0m\u001b[0;34m\u001b[0m\u001b[0;34m\u001b[0m\u001b[0m\n\u001b[1;32m      4\u001b[0m     \u001b[0;32massert\u001b[0m \u001b[0mrange_overlap\u001b[0m\u001b[0;34m(\u001b[0m\u001b[0;34m[\u001b[0m \u001b[0;34m(\u001b[0m\u001b[0;36m0.0\u001b[0m\u001b[0;34m,\u001b[0m \u001b[0;36m1.0\u001b[0m\u001b[0;34m)\u001b[0m \u001b[0;34m]\u001b[0m\u001b[0;34m)\u001b[0m \u001b[0;34m==\u001b[0m \u001b[0;34m(\u001b[0m\u001b[0;36m0.0\u001b[0m\u001b[0;34m,\u001b[0m \u001b[0;36m1.0\u001b[0m\u001b[0;34m)\u001b[0m\u001b[0;34m\u001b[0m\u001b[0;34m\u001b[0m\u001b[0m\n\u001b[1;32m      5\u001b[0m     \u001b[0;32massert\u001b[0m \u001b[0mrange_overlap\u001b[0m\u001b[0;34m(\u001b[0m\u001b[0;34m[\u001b[0m \u001b[0;34m(\u001b[0m\u001b[0;36m2.0\u001b[0m\u001b[0;34m,\u001b[0m \u001b[0;36m3.0\u001b[0m\u001b[0;34m)\u001b[0m\u001b[0;34m,\u001b[0m \u001b[0;34m(\u001b[0m\u001b[0;36m2.0\u001b[0m\u001b[0;34m,\u001b[0m \u001b[0;36m4.0\u001b[0m\u001b[0;34m)\u001b[0m \u001b[0;34m]\u001b[0m\u001b[0;34m)\u001b[0m \u001b[0;34m==\u001b[0m \u001b[0;34m(\u001b[0m\u001b[0;36m2.0\u001b[0m\u001b[0;34m,\u001b[0m \u001b[0;36m3.0\u001b[0m\u001b[0;34m)\u001b[0m\u001b[0;34m\u001b[0m\u001b[0;34m\u001b[0m\u001b[0m\n",
      "\u001b[0;31mNameError\u001b[0m: name 'range_overlap' is not defined"
     ]
    }
   ],
   "source": [
    "test_range_overlap()\n"
   ]
  },
  {
   "cell_type": "code",
   "execution_count": 149,
   "id": "e9366222",
   "metadata": {},
   "outputs": [
    {
     "name": "stdout",
     "output_type": "stream",
     "text": [
      "Patient's BMI is: 21.604938271604937\n",
      "Patient's BMI is: 22.1606648199446\n",
      "Patient's BMI is: 51.90311418685122\n"
     ]
    }
   ],
   "source": [
    "patients = [[70, 1.8], [80, 1.9], [150, 1.7]]\n",
    "\n",
    "def calculate_bmi(weight, height):\n",
    "    return weight / (height ** 2)\n",
    "\n",
    "for patient in patients:\n",
    "    weight, height = patient\n",
    "    bmi = calculate_bmi(weight, height)\n",
    "    print(\"Patient's BMI is:\", bmi)\n",
    "\n"
   ]
  },
  {
   "cell_type": "code",
   "execution_count": 139,
   "id": "371b4cf7",
   "metadata": {},
   "outputs": [
    {
     "name": "stdout",
     "output_type": "stream",
     "text": [
      "version is 3.9.13 (main, Aug 25 2022, 23:26:10) \n",
      "[GCC 11.2.0]\n"
     ]
    }
   ],
   "source": [
    "import sys\n",
    "print('version is', sys.version)\n"
   ]
  },
  {
   "cell_type": "code",
   "execution_count": 147,
   "id": "12de740e",
   "metadata": {},
   "outputs": [],
   "source": [
    "import sys\n",
    "import numpy\n",
    "\n",
    "def main():\n",
    "    script = sys.argv[0]\n",
    "    filename = sys.argv[1]\n",
    "    data = numpy.loadtxt(filename, delimiter=',')\n",
    "    for row_mean in numpy.mean(data, axis=1):\n",
    "        print(row_mean)\n"
   ]
  },
  {
   "cell_type": "code",
   "execution_count": 148,
   "id": "628adb7b",
   "metadata": {},
   "outputs": [
    {
     "ename": "AssertionError",
     "evalue": "Action is not one of --min, --mean, or --max: -f",
     "output_type": "error",
     "traceback": [
      "\u001b[0;31m---------------------------------------------------------------------------\u001b[0m",
      "\u001b[0;31mAssertionError\u001b[0m                            Traceback (most recent call last)",
      "\u001b[0;32m/tmp/ipykernel_162789/1556592577.py\u001b[0m in \u001b[0;36m<module>\u001b[0;34m\u001b[0m\n\u001b[1;32m     25\u001b[0m \u001b[0;34m\u001b[0m\u001b[0m\n\u001b[1;32m     26\u001b[0m \u001b[0;32mif\u001b[0m \u001b[0m__name__\u001b[0m \u001b[0;34m==\u001b[0m \u001b[0;34m'__main__'\u001b[0m\u001b[0;34m:\u001b[0m\u001b[0;34m\u001b[0m\u001b[0;34m\u001b[0m\u001b[0m\n\u001b[0;32m---> 27\u001b[0;31m    \u001b[0mmain\u001b[0m\u001b[0;34m(\u001b[0m\u001b[0;34m)\u001b[0m\u001b[0;34m\u001b[0m\u001b[0;34m\u001b[0m\u001b[0m\n\u001b[0m",
      "\u001b[0;32m/tmp/ipykernel_162789/1556592577.py\u001b[0m in \u001b[0;36mmain\u001b[0;34m()\u001b[0m\n\u001b[1;32m      6\u001b[0m     \u001b[0maction\u001b[0m \u001b[0;34m=\u001b[0m \u001b[0msys\u001b[0m\u001b[0;34m.\u001b[0m\u001b[0margv\u001b[0m\u001b[0;34m[\u001b[0m\u001b[0;36m1\u001b[0m\u001b[0;34m]\u001b[0m\u001b[0;34m\u001b[0m\u001b[0;34m\u001b[0m\u001b[0m\n\u001b[1;32m      7\u001b[0m     \u001b[0mfilenames\u001b[0m \u001b[0;34m=\u001b[0m \u001b[0msys\u001b[0m\u001b[0;34m.\u001b[0m\u001b[0margv\u001b[0m\u001b[0;34m[\u001b[0m\u001b[0;36m2\u001b[0m\u001b[0;34m:\u001b[0m\u001b[0;34m]\u001b[0m\u001b[0;34m\u001b[0m\u001b[0;34m\u001b[0m\u001b[0m\n\u001b[0;32m----> 8\u001b[0;31m     \u001b[0;32massert\u001b[0m \u001b[0maction\u001b[0m \u001b[0;32min\u001b[0m \u001b[0;34m[\u001b[0m\u001b[0;34m'--min'\u001b[0m\u001b[0;34m,\u001b[0m \u001b[0;34m'--mean'\u001b[0m\u001b[0;34m,\u001b[0m \u001b[0;34m'--max'\u001b[0m\u001b[0;34m]\u001b[0m\u001b[0;34m,\u001b[0m\u001b[0;31m \u001b[0m\u001b[0;31m\\\u001b[0m\u001b[0;34m\u001b[0m\u001b[0;34m\u001b[0m\u001b[0m\n\u001b[0m\u001b[1;32m      9\u001b[0m            \u001b[0;34m'Action is not one of --min, --mean, or --max: '\u001b[0m \u001b[0;34m+\u001b[0m \u001b[0maction\u001b[0m\u001b[0;34m\u001b[0m\u001b[0;34m\u001b[0m\u001b[0m\n\u001b[1;32m     10\u001b[0m     \u001b[0;32mfor\u001b[0m \u001b[0mfilename\u001b[0m \u001b[0;32min\u001b[0m \u001b[0mfilenames\u001b[0m\u001b[0;34m:\u001b[0m\u001b[0;34m\u001b[0m\u001b[0;34m\u001b[0m\u001b[0m\n",
      "\u001b[0;31mAssertionError\u001b[0m: Action is not one of --min, --mean, or --max: -f"
     ]
    }
   ],
   "source": [
    "import sys\n",
    "import numpy\n",
    "\n",
    "def main():\n",
    "    script = sys.argv[0]\n",
    "    action = sys.argv[1]\n",
    "    filenames = sys.argv[2:]\n",
    "    assert action in ['--min', '--mean', '--max'], \\\n",
    "           'Action is not one of --min, --mean, or --max: ' + action\n",
    "    for filename in filenames:\n",
    "        process(filename, action)\n",
    "\n",
    "def process(filename, action):\n",
    "    data = numpy.loadtxt(filename, delimiter=',')\n",
    "\n",
    "    if action == '--min':\n",
    "        values = numpy.min(data, axis=1)\n",
    "    elif action == '--mean':\n",
    "        values = numpy.mean(data, axis=1)\n",
    "    elif action == '--max':\n",
    "        values = numpy.max(data, axis=1)\n",
    "\n",
    "    for val in values:\n",
    "        print(val)\n",
    "\n",
    "if __name__ == '__main__':\n",
    "   main()\n"
   ]
  },
  {
   "cell_type": "code",
   "execution_count": 1,
   "id": "92c0e309",
   "metadata": {},
   "outputs": [],
   "source": [
    "gewicht = 300"
   ]
  },
  {
   "cell_type": "code",
   "execution_count": 26,
   "id": "b7067c4d",
   "metadata": {},
   "outputs": [],
   "source": [
    "data = numpy.loadtxt(fname='inflammation5.csv', delimiter=',')\n"
   ]
  },
  {
   "cell_type": "code",
   "execution_count": 27,
   "id": "9223960a",
   "metadata": {},
   "outputs": [
    {
     "name": "stdout",
     "output_type": "stream",
     "text": [
      "name: grass hopper\n",
      "gewicht: 0.05\n",
      "alter: 30\n",
      "bmi: 3.0\n",
      "grass ist untergewichtig\n",
      "Seems OK!\n",
      "Fri Jan 20 10:55:32 2023\n"
     ]
    }
   ],
   "source": [
    "import numpy\n",
    "import time\n",
    "data = numpy.loadtxt(fname='inflammation5.csv' , delimiter=',')\n",
    "\n",
    "\n",
    "first, second = 'grass' , 'hopper'\n",
    "age = 30\n",
    "weight = 0.05\n",
    "print('name:', first, second)\n",
    "print('gewicht:', weight)\n",
    "print('alter:', age)\n",
    "print('bmi:', age * weight *2)\n",
    "if weight > 55:\n",
    "    print('grass ist normal gewichtig')\n",
    "else:\n",
    "    print('grass ist untergewichtig')\n",
    "max_inflammation_0 = numpy.max(data, axis=0)[0]\n",
    "max_inflammation_20 = numpy.max(data, axis=0)[20]\n",
    "if max_inflammation_0 == 0 and max_inflammation_20 == 20:\n",
    "    print('Suspicious looking maxima!')\n",
    "elif numpy.sum(numpy.min(data, axis=0)) == 0:\n",
    "    print('Minima add up to zero!')\n",
    "else:\n",
    "    print('Seems OK!')\n",
    "print(time.ctime())\n"
   ]
  },
  {
   "cell_type": "code",
   "execution_count": 28,
   "id": "2a51e368",
   "metadata": {},
   "outputs": [
    {
     "data": {
      "image/png": "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\n",
      "text/plain": [
       "<Figure size 720x216 with 3 Axes>"
      ]
     },
     "metadata": {
      "needs_background": "light"
     },
     "output_type": "display_data"
    }
   ],
   "source": [
    "import numpy\n",
    "import matplotlib.pyplot\n",
    "\n",
    "data = numpy.loadtxt(fname='inflammation5.csv', delimiter=',')\n",
    "\n",
    "fig = matplotlib.pyplot.figure(figsize=(10.0, 3.0))\n",
    "\n",
    "axes1 = fig.add_subplot(1, 3, 1)\n",
    "axes2 = fig.add_subplot(1, 3, 2)\n",
    "axes3 = fig.add_subplot(1, 3, 3)\n",
    "\n",
    "axes1.set_ylabel('average')\n",
    "axes1.plot(numpy.mean(data, axis=0))\n",
    "\n",
    "axes2.set_ylabel('max')\n",
    "axes2.plot(numpy.max(data, axis=0))\n",
    "\n",
    "axes3.set_ylabel('min')\n",
    "axes3.plot(numpy.min(data, axis=0))\n",
    "\n",
    "fig.tight_layout()\n",
    "\n",
    "matplotlib.pyplot.savefig('inflammation.png')\n",
    "matplotlib.pyplot.show()\n"
   ]
  },
  {
   "cell_type": "code",
<<<<<<< HEAD
   "execution_count": 1,
   "id": "c4f15594",
=======
   "execution_count": null,
   "metadata": {},
   "outputs": [],
   "source": []
  },
  {
   "cell_type": "code",
   "execution_count": 1,
>>>>>>> refs/remotes/origin/main
   "metadata": {},
   "outputs": [
    {
     "data": {
      "text/plain": [
       "5"
      ]
     },
     "execution_count": 1,
     "metadata": {},
     "output_type": "execute_result"
    }
   ],
   "source": [
    "round(4.56)"
   ]
  },
  {
   "cell_type": "code",
<<<<<<< HEAD
   "execution_count": 11,
   "id": "92cd5cfb",
   "metadata": {},
   "outputs": [
    {
     "name": "stdout",
     "output_type": "stream",
     "text": [
      "[1, 2, 3, 4, 5, 6, 7, 8]\n",
      "{1, 2, 3, 4, 5, 6, 9}\n",
      "(1, 2, 3, 5, 7, 9)\n",
      "{'apfel': 'sind lecker da'}\n"
     ]
    },
    {
     "data": {
      "text/plain": [
       "1"
      ]
     },
     "execution_count": 11,
     "metadata": {},
     "output_type": "execute_result"
    }
   ],
   "source": [
    "mylist = [1,2,3,4,5,6,7,8]\n",
    "print(mylist)\n",
    "myset = {1,2,3,4,5,6,9}\n",
    "print(myset)\n",
    "mytuple = (1,2,3,5,7,9)\n",
    "print(mytuple)\n",
    "len(mytuple)\n",
    "myDictionary = {'apfel':'sind lecker da'}\n",
    "print(myDictionary)\n",
    "len(myDictionary)"
   ]
  },
  {
   "cell_type": "code",
   "execution_count": 15,
   "id": "7e8f13fe",
   "metadata": {},
   "outputs": [
    {
     "data": {
      "text/plain": [
       "8"
      ]
     },
     "execution_count": 15,
     "metadata": {},
     "output_type": "execute_result"
    }
   ],
   "source": [
    "len(mylist)"
   ]
  },
  {
   "cell_type": "code",
   "execution_count": 14,
   "id": "bf7d7139",
   "metadata": {},
   "outputs": [
    {
     "data": {
      "text/plain": [
       "7"
      ]
     },
     "execution_count": 14,
     "metadata": {},
     "output_type": "execute_result"
    }
   ],
   "source": [
    "len(myset)"
   ]
  },
  {
   "cell_type": "code",
   "execution_count": 18,
   "id": "d8879485",
   "metadata": {},
   "outputs": [
    {
     "data": {
      "text/plain": [
       "5.0"
      ]
     },
     "execution_count": 18,
     "metadata": {},
     "output_type": "execute_result"
    }
   ],
   "source": [
    "20/4"
   ]
  },
  {
   "cell_type": "code",
   "execution_count": 19,
   "id": "a3b05833",
   "metadata": {},
   "outputs": [
    {
     "data": {
      "text/plain": [
       "True"
      ]
     },
     "execution_count": 19,
     "metadata": {},
     "output_type": "execute_result"
    }
   ],
   "source": [
    "bool(1)"
   ]
  },
  {
   "cell_type": "code",
   "execution_count": 21,
   "id": "27e9d7e3",
   "metadata": {},
   "outputs": [
    {
     "name": "stdout",
     "output_type": "stream",
     "text": [
      "ik_kre\n"
     ]
    }
   ],
   "source": [
    "name = 'erik_kreienbrock'\n",
    "print(name[2:8])"
   ]
  },
  {
   "cell_type": "code",
   "execution_count": 24,
   "id": "4cda5b11",
   "metadata": {},
   "outputs": [
    {
     "data": {
      "text/plain": [
       "b'\\x00\\x00\\x00\\x00'"
      ]
     },
     "execution_count": 24,
     "metadata": {},
     "output_type": "execute_result"
    }
   ],
   "source": [
    "bytes(4)"
   ]
  },
  {
   "cell_type": "code",
   "execution_count": 28,
   "id": "541a6537",
   "metadata": {
    "scrolled": false
   },
   "outputs": [
    {
     "name": "stdout",
     "output_type": "stream",
     "text": [
      "0\n",
      "1\n",
      "2\n",
      "3\n",
      "4\n",
      "5\n",
      "6\n",
      "7\n",
      "8\n",
      "9\n",
      "10\n",
      "11\n",
      "12\n",
      "13\n",
      "14\n",
      "15\n",
      "16\n",
      "17\n",
      "18\n",
      "19\n",
      "20\n",
      "21\n",
      "22\n",
      "23\n",
      "24\n",
      "25\n",
      "26\n",
      "27\n",
      "28\n",
      "29\n",
      "30\n",
      "31\n",
      "32\n",
      "33\n"
     ]
    }
   ],
   "source": [
    "my_list = [1,2,3,4,5,6,7,8,9]\n",
    "for i in range(34):\n",
    "    print(i)"
   ]
  },
  {
   "cell_type": "code",
   "execution_count": 31,
   "id": "72c7d5f7",
   "metadata": {},
   "outputs": [],
   "source": [
    "set = {'a','b'}\n",
    "\n"
   ]
  },
  {
   "cell_type": "code",
   "execution_count": 34,
   "id": "750c6d65",
   "metadata": {},
   "outputs": [
    {
     "data": {
      "text/plain": [
       "{'a', 'b', 'c'}"
      ]
     },
     "execution_count": 34,
     "metadata": {},
     "output_type": "execute_result"
    }
   ],
   "source": [
    "set.add('c')\n",
    "set"
   ]
  },
  {
   "cell_type": "code",
   "execution_count": 36,
   "id": "bbb5ea44",
   "metadata": {},
   "outputs": [
    {
     "data": {
      "text/plain": [
       "1"
      ]
     },
     "execution_count": 36,
     "metadata": {},
     "output_type": "execute_result"
    }
   ],
   "source": [
    "my_tuple = (1,2,3,4,5,6,7)\n",
    "my_tuple[0]"
   ]
  },
  {
   "cell_type": "code",
   "execution_count": 50,
   "id": "5c81a73d",
   "metadata": {},
   "outputs": [
    {
     "name": "stdout",
     "output_type": "stream",
     "text": [
      "1\n",
      "zwei\n",
      "3\n",
      "zwei\n",
      "funf\n",
      "zwei\n",
      "sieben\n",
      "zwei\n",
      "9\n",
      "zwei\n",
      "11\n",
      "zwei\n",
      "13\n",
      "zwei\n",
      "funf\n",
      "zwei\n",
      "17\n",
      "zwei\n",
      "19\n",
      "zwei\n",
      "sieben\n",
      "zwei\n",
      "23\n",
      "zwei\n",
      "funf\n",
      "zwei\n",
      "27\n",
      "zwei\n",
      "29\n",
      "zwei\n",
      "31\n",
      "zwei\n",
      "33\n",
      "zwei\n",
      "funf\n",
      "zwei\n",
      "37\n",
      "zwei\n",
      "39\n",
      "zwei\n",
      "41\n",
      "zwei\n",
      "43\n",
      "zwei\n",
      "funf\n",
      "zwei\n",
      "47\n",
      "zwei\n",
      "sieben\n",
      "zwei\n",
      "51\n",
      "zwei\n",
      "53\n",
      "zwei\n",
      "funf\n",
      "zwei\n",
      "57\n",
      "zwei\n",
      "59\n",
      "zwei\n",
      "61\n",
      "zwei\n",
      "sieben\n",
      "zwei\n",
      "funf\n",
      "zwei\n",
      "67\n",
      "zwei\n",
      "69\n",
      "zwei\n",
      "71\n",
      "zwei\n",
      "73\n",
      "zwei\n",
      "funf\n",
      "zwei\n",
      "sieben\n",
      "zwei\n",
      "79\n",
      "zwei\n",
      "81\n",
      "zwei\n",
      "83\n",
      "zwei\n",
      "funf\n",
      "zwei\n",
      "87\n",
      "zwei\n",
      "89\n",
      "zwei\n",
      "sieben\n",
      "zwei\n",
      "93\n",
      "zwei\n",
      "funf\n",
      "zwei\n",
      "97\n",
      "zwei\n",
      "99\n"
     ]
    }
   ],
   "source": [
    "for n in range(1,100):\n",
    "    if n % 2 == 0:\n",
    "        print('zwei')\n",
    "    else:\n",
    "        if n % 5 == 0:\n",
    "            print('funf')\n",
    "        else:\n",
    "            if n % 7 ==0:\n",
    "                print('sieben')\n",
    "            else:\n",
    "                print(n)\n",
    "            "
   ]
  },
  {
   "cell_type": "code",
   "execution_count": 54,
   "id": "8729fe46",
   "metadata": {},
   "outputs": [
    {
     "name": "stdout",
     "output_type": "stream",
     "text": [
      "Ava\n"
     ]
    }
   ],
   "source": [
    "class Dog:\n",
    "    def __init__(self, name):\n",
    "        self.name = name\n",
    "    def speak(self):\n",
    "        print(self.name + 'says Bark')\n",
    "my_Dog = Dog('Ava')\n",
    "print(my_Dog.name)\n",
    "\n",
    "class a(Dog):\n",
    "    def speak(self):\n",
    "        print(f'{self.name}says a')\n",
    "        \n",
    "    \n",
    "        \n",
    "    "
   ]
  },
  {
   "cell_type": "code",
   "execution_count": 1,
   "id": "44dc3ec6",
   "metadata": {},
   "outputs": [],
   "source": [
    "import torch\n",
    "import torchvision"
   ]
  },
  {
   "cell_type": "code",
   "execution_count": 27,
   "id": "51b75d1b",
   "metadata": {},
   "outputs": [
    {
     "name": "stdout",
     "output_type": "stream",
     "text": [
      "False\n"
     ]
    }
   ],
   "source": [
    "print(torch.cuda.is_available())"
   ]
  },
  {
   "cell_type": "code",
   "execution_count": 2,
   "id": "52f807a1",
   "metadata": {},
   "outputs": [
    {
     "data": {
      "text/plain": [
       "<torch._C.Generator at 0x7fb62462d930>"
      ]
     },
     "execution_count": 2,
     "metadata": {},
     "output_type": "execute_result"
    }
   ],
   "source": [
    "n_epochs = 3\n",
    "batch_size_train = 64\n",
    "batch_size_test = 1000\n",
    "learning_rate = 0.01\n",
    "momentum = 0.5\n",
    "log_interval = 10\n",
    "\n",
    "random_seed = 1\n",
    "torch.backends.cudnn.enabled = False\n",
    "torch.manual_seed(random_seed)"
   ]
  },
  {
   "cell_type": "code",
   "execution_count": 6,
   "id": "b79df14f",
   "metadata": {},
   "outputs": [
    {
     "ename": "NameError",
     "evalue": "name 'torch' is not defined",
     "output_type": "error",
     "traceback": [
      "\u001b[0;31m---------------------------------------------------------------------------\u001b[0m",
      "\u001b[0;31mNameError\u001b[0m                                 Traceback (most recent call last)",
      "\u001b[0;32m/tmp/ipykernel_482480/2840576976.py\u001b[0m in \u001b[0;36m<module>\u001b[0;34m\u001b[0m\n\u001b[0;32m----> 1\u001b[0;31m train_loader = torch.utils.data.DataLoader(\n\u001b[0m\u001b[1;32m      2\u001b[0m   torchvision.datasets.MNIST('/files/', train=True, download=True,\n\u001b[1;32m      3\u001b[0m                              transform=torchvision.transforms.Compose([\n\u001b[1;32m      4\u001b[0m                                \u001b[0mtorchvision\u001b[0m\u001b[0;34m.\u001b[0m\u001b[0mtransforms\u001b[0m\u001b[0;34m.\u001b[0m\u001b[0mToTensor\u001b[0m\u001b[0;34m(\u001b[0m\u001b[0;34m)\u001b[0m\u001b[0;34m,\u001b[0m\u001b[0;34m\u001b[0m\u001b[0;34m\u001b[0m\u001b[0m\n\u001b[1;32m      5\u001b[0m                                torchvision.transforms.Normalize(\n",
      "\u001b[0;31mNameError\u001b[0m: name 'torch' is not defined"
     ]
    }
   ],
   "source": [
    "train_loader = torch.utils.data.DataLoader(\n",
    "  torchvision.datasets.MNIST('/files/', train=True, download=True,\n",
    "                             transform=torchvision.transforms.Compose([\n",
    "                               torchvision.transforms.ToTensor(),\n",
    "                               torchvision.transforms.Normalize(\n",
    "                                 (0.1307,), (0.3081,))\n",
    "                             ])),\n",
    "  batch_size = batch_size_train, shuffle=True)\n",
    "\n",
    "test_loader = torch.utils.data.DataLoader(\n",
    "      torchvision.datasets.MNIST('/files/', train=False, download=True,\n",
    "                             transform=torchvision.transforms.Compose([\n",
    "                               torchvision.transforms.ToTensor(),\n",
    "                               torchvision.transforms.Normalize(\n",
    "                                 (0.1307,), (0.3081,))\n",
    "                             ])),\n",
    "  batch_size=batch_size_test, shuffle=True)"
   ]
  },
  {
   "cell_type": "code",
   "execution_count": 16,
   "id": "a4667fea",
   "metadata": {},
   "outputs": [
    {
     "ename": "NameError",
     "evalue": "name 'test_loader' is not defined",
     "output_type": "error",
     "traceback": [
      "\u001b[0;31m---------------------------------------------------------------------------\u001b[0m",
      "\u001b[0;31mNameError\u001b[0m                                 Traceback (most recent call last)",
      "\u001b[0;32m/tmp/ipykernel_365186/524495416.py\u001b[0m in \u001b[0;36m<module>\u001b[0;34m\u001b[0m\n\u001b[0;32m----> 1\u001b[0;31m \u001b[0mexamples\u001b[0m \u001b[0;34m=\u001b[0m \u001b[0menumerate\u001b[0m\u001b[0;34m(\u001b[0m\u001b[0mtest_loader\u001b[0m\u001b[0;34m)\u001b[0m\u001b[0;34m\u001b[0m\u001b[0;34m\u001b[0m\u001b[0m\n\u001b[0m\u001b[1;32m      2\u001b[0m \u001b[0mbatch_idx\u001b[0m\u001b[0;34m,\u001b[0m \u001b[0;34m(\u001b[0m\u001b[0mexample_data\u001b[0m\u001b[0;34m,\u001b[0m \u001b[0mexample_targets\u001b[0m\u001b[0;34m)\u001b[0m \u001b[0;34m=\u001b[0m \u001b[0mnext\u001b[0m\u001b[0;34m(\u001b[0m\u001b[0mexamples\u001b[0m\u001b[0;34m)\u001b[0m\u001b[0;34m\u001b[0m\u001b[0;34m\u001b[0m\u001b[0m\n",
      "\u001b[0;31mNameError\u001b[0m: name 'test_loader' is not defined"
     ]
    }
   ],
   "source": [
    "examples = enumerate(test_loader)\n",
    "batch_idx, (example_data, example_targets) = next(examples)"
   ]
  },
  {
   "cell_type": "code",
   "execution_count": 22,
   "id": "48d37253",
   "metadata": {},
   "outputs": [
    {
     "ename": "NameError",
     "evalue": "name 'test_loader' is not defined",
     "output_type": "error",
     "traceback": [
      "\u001b[0;31m---------------------------------------------------------------------------\u001b[0m",
      "\u001b[0;31mNameError\u001b[0m                                 Traceback (most recent call last)",
      "\u001b[0;32m/tmp/ipykernel_365186/524495416.py\u001b[0m in \u001b[0;36m<module>\u001b[0;34m\u001b[0m\n\u001b[0;32m----> 1\u001b[0;31m \u001b[0mexamples\u001b[0m \u001b[0;34m=\u001b[0m \u001b[0menumerate\u001b[0m\u001b[0;34m(\u001b[0m\u001b[0mtest_loader\u001b[0m\u001b[0;34m)\u001b[0m\u001b[0;34m\u001b[0m\u001b[0;34m\u001b[0m\u001b[0m\n\u001b[0m\u001b[1;32m      2\u001b[0m \u001b[0mbatch_idx\u001b[0m\u001b[0;34m,\u001b[0m \u001b[0;34m(\u001b[0m\u001b[0mexample_data\u001b[0m\u001b[0;34m,\u001b[0m \u001b[0mexample_targets\u001b[0m\u001b[0;34m)\u001b[0m \u001b[0;34m=\u001b[0m \u001b[0mnext\u001b[0m\u001b[0;34m(\u001b[0m\u001b[0mexamples\u001b[0m\u001b[0;34m)\u001b[0m\u001b[0;34m\u001b[0m\u001b[0;34m\u001b[0m\u001b[0m\n",
      "\u001b[0;31mNameError\u001b[0m: name 'test_loader' is not defined"
     ]
    }
   ],
   "source": [
    "examples = enumerate(test_loader)\n",
    "batch_idx, (example_data, example_targets) = next(examples)"
   ]
  },
  {
   "cell_type": "code",
   "execution_count": 21,
   "id": "1b46b520",
   "metadata": {},
   "outputs": [
    {
     "ename": "NameError",
     "evalue": "name 'example_data' is not defined",
     "output_type": "error",
     "traceback": [
      "\u001b[0;31m---------------------------------------------------------------------------\u001b[0m",
      "\u001b[0;31mNameError\u001b[0m                                 Traceback (most recent call last)",
      "\u001b[0;32m/tmp/ipykernel_365186/686456101.py\u001b[0m in \u001b[0;36m<module>\u001b[0;34m\u001b[0m\n\u001b[0;32m----> 1\u001b[0;31m \u001b[0mexample_data\u001b[0m\u001b[0;34m.\u001b[0m\u001b[0mshape\u001b[0m\u001b[0;34m\u001b[0m\u001b[0;34m\u001b[0m\u001b[0m\n\u001b[0m",
      "\u001b[0;31mNameError\u001b[0m: name 'example_data' is not defined"
     ]
    }
   ],
   "source": [
    "example_data.shape"
   ]
  },
  {
   "cell_type": "code",
   "execution_count": 25,
   "id": "8a6306e6",
   "metadata": {},
   "outputs": [
    {
     "ename": "NameError",
     "evalue": "name 'example_data' is not defined",
     "output_type": "error",
     "traceback": [
      "\u001b[0;31m---------------------------------------------------------------------------\u001b[0m",
      "\u001b[0;31mNameError\u001b[0m                                 Traceback (most recent call last)",
      "\u001b[0;32m/tmp/ipykernel_365186/3182292122.py\u001b[0m in \u001b[0;36m<module>\u001b[0;34m\u001b[0m\n\u001b[1;32m      3\u001b[0m   \u001b[0mplt\u001b[0m\u001b[0;34m.\u001b[0m\u001b[0msubplot\u001b[0m\u001b[0;34m(\u001b[0m\u001b[0;36m2\u001b[0m\u001b[0;34m,\u001b[0m\u001b[0;36m3\u001b[0m\u001b[0;34m,\u001b[0m\u001b[0mi\u001b[0m\u001b[0;34m+\u001b[0m\u001b[0;36m1\u001b[0m\u001b[0;34m)\u001b[0m\u001b[0;34m\u001b[0m\u001b[0;34m\u001b[0m\u001b[0m\n\u001b[1;32m      4\u001b[0m   \u001b[0mplt\u001b[0m\u001b[0;34m.\u001b[0m\u001b[0mtight_layout\u001b[0m\u001b[0;34m(\u001b[0m\u001b[0;34m)\u001b[0m\u001b[0;34m\u001b[0m\u001b[0;34m\u001b[0m\u001b[0m\n\u001b[0;32m----> 5\u001b[0;31m   \u001b[0mplt\u001b[0m\u001b[0;34m.\u001b[0m\u001b[0mimshow\u001b[0m\u001b[0;34m(\u001b[0m\u001b[0mexample_data\u001b[0m\u001b[0;34m[\u001b[0m\u001b[0mi\u001b[0m\u001b[0;34m]\u001b[0m\u001b[0;34m[\u001b[0m\u001b[0;36m0\u001b[0m\u001b[0;34m]\u001b[0m\u001b[0;34m,\u001b[0m \u001b[0mcmap\u001b[0m\u001b[0;34m=\u001b[0m\u001b[0;34m'gray'\u001b[0m\u001b[0;34m,\u001b[0m \u001b[0minterpolation\u001b[0m\u001b[0;34m=\u001b[0m\u001b[0;34m'none'\u001b[0m\u001b[0;34m)\u001b[0m\u001b[0;34m\u001b[0m\u001b[0;34m\u001b[0m\u001b[0m\n\u001b[0m\u001b[1;32m      6\u001b[0m   \u001b[0mplt\u001b[0m\u001b[0;34m.\u001b[0m\u001b[0mtitle\u001b[0m\u001b[0;34m(\u001b[0m\u001b[0;34m\"Ground Truth: {}\"\u001b[0m\u001b[0;34m.\u001b[0m\u001b[0mformat\u001b[0m\u001b[0;34m(\u001b[0m\u001b[0mexample_targets\u001b[0m\u001b[0;34m[\u001b[0m\u001b[0mi\u001b[0m\u001b[0;34m]\u001b[0m\u001b[0;34m)\u001b[0m\u001b[0;34m)\u001b[0m\u001b[0;34m\u001b[0m\u001b[0;34m\u001b[0m\u001b[0m\n\u001b[1;32m      7\u001b[0m   \u001b[0mplt\u001b[0m\u001b[0;34m.\u001b[0m\u001b[0mxticks\u001b[0m\u001b[0;34m(\u001b[0m\u001b[0;34m[\u001b[0m\u001b[0;34m]\u001b[0m\u001b[0;34m)\u001b[0m\u001b[0;34m\u001b[0m\u001b[0;34m\u001b[0m\u001b[0m\n",
      "\u001b[0;31mNameError\u001b[0m: name 'example_data' is not defined"
     ]
    },
    {
     "data": {
      "image/png": "iVBORw0KGgoAAAANSUhEUgAAAPIAAAD8CAYAAABNYvnUAAAAOXRFWHRTb2Z0d2FyZQBNYXRwbG90bGliIHZlcnNpb24zLjUuMiwgaHR0cHM6Ly9tYXRwbG90bGliLm9yZy8qNh9FAAAACXBIWXMAAA9hAAAPYQGoP6dpAAAVQ0lEQVR4nO3df1CT9x0H8HdISNK6JU7RiAVT7FrQeuskTH6Ncasah847/tiBtxtgT++W222KzHVQ7uqP6zV1W7tbW6GzDXq9U0tbxHk3Zs0filRst7Kw2wqbXbUm7aActAZ0Myh89wcjt6dJlCeQAF/er7vnj+fr9/s8Hx6ft9/keXh8NEIIASKa1RKmuwAimjwGmUgCDDKRBBhkIgkwyEQSYJCJJMAgE0mAQSaSAINMJAEGmUgCqoN8/vx5bN68GUuXLoVGo8HJkyfvOqa1tRU2mw1GoxHLly/HSy+9FE2tRBSB6iDfuHEDjzzyCF588cUJ9b9y5Qo2btyIgoICeDwePPHEE9ixYweamppUF0tE4Wkm89CERqNBc3MziouLI/b5+c9/jlOnTqG7uzvY5nA48Je//AUXL16MdtdE9H90sd7BxYsXYbfbFW0bNmyAy+XCrVu3kJiYGDImEAggEAgE10dHR/HZZ59h4cKF0Gg0sS6ZaMoIITA0NISlS5ciISF2l6RiHuTe3l5YLBZFm8Viwe3bt9Hf34/k5OSQMU6nE/v27Yt1aURx4/P5kJKSErPtxzzIAEJm0fFP85Fm15qaGlRVVQXX/X4/li1bBp/PB5PJFLtCiabY4OAgUlNT8eUvfzmm+4l5kJcsWYLe3l5FW19fH3Q6HRYuXBh2jMFggMFgCGk3mUwMMs1Ksf5KGPP7yLm5uXC73Yq2M2fOICsrK+z3YyJST3WQr1+/js7OTnR2dgIYu73U2dkJr9cLYOxjcXl5ebC/w+HA1atXUVVVhe7ubjQ0NMDlcmH37t1T8xMQESBUOnv2rAAQslRUVAghhKioqBCFhYWKMefOnROrV68Wer1e3H///aK+vl7VPv1+vwAg/H6/2nKJplW8zt1J3UeOl8HBQZjNZvj9fn5HplklXucuf9eaSAIMMpEEGGQiCTDIRBJgkIkkwCATSYBBJpIAg0wkAQaZSAIMMpEEGGQiCTDIRBJgkIkkwCATSYBBJpIAg0wkAQaZSAIMMpEEGGQiCTDIRBJgkIkkwCATSYBBJpIAg0wkAQaZSAIMMpEEGGQiCTDIRBJgkIkkwCATSSCqINfV1SEtLQ1GoxE2mw1tbW137H/06FE88sgjuPfee5GcnIzHHnsMAwMDURVMRKFUB7mxsRGVlZWora2Fx+NBQUEBioqK4PV6w/Z/++23UV5ejm3btuH999/HG2+8gT/96U/Yvn37pIsnov9R+2b0NWvWCIfDoWjLyMgQ1dXVYfv/8pe/FMuXL1e0Pf/88yIlJWXC+4zXW9+Jplq8zl1VM/Lw8DA6Ojpgt9sV7Xa7He3t7WHH5OXl4eOPP0ZLSwuEEPj000/x5ptvYtOmTRH3EwgEMDg4qFiIKDJVQe7v78fIyAgsFoui3WKxoLe3N+yYvLw8HD16FKWlpdDr9ViyZAnmz5+PF154IeJ+nE4nzGZzcElNTVVTJtGcE9XFLo1Go1gXQoS0jevq6sKOHTvw5JNPoqOjA6dPn8aVK1fgcDgibr+mpgZ+vz+4+Hy+aMokmjN0ajonJSVBq9WGzL59fX0hs/Q4p9OJ/Px8/OxnPwMAfO1rX8O8efNQUFCAp556CsnJySFjDAYDDAaDmtKI5jRVM7Jer4fNZoPb7Va0u91u5OXlhR3z73//GwkJyt1otVoAYzM5EU2e6o/WVVVVeOWVV9DQ0IDu7m7s2rULXq83+FG5pqYG5eXlwf6bN2/GiRMnUF9fj8uXL+PChQvYsWMH1qxZg6VLl07dT0I0h6n6aA0ApaWlGBgYwP79+9HT04NVq1ahpaUFVqsVANDT06O4p7x161YMDQ3hxRdfxE9/+lPMnz8fjz76KA4cODB1PwXRHKcRs+Dz7eDgIMxmM/x+P0wm03SXQzRh8Tp3+bvWRBJgkIkkwCATSYBBJpIAg0wkAQaZSAIMMpEEGGQiCTDIRBJgkIkkwCATSYBBJpIAg0wkAQaZSAIMMpEEGGQiCTDIRBJgkIkkwCATSYBBJpIAg0wkAQaZSAIMMpEEGGQiCTDIRBJgkIkkwCATSYBBJpIAg0wkgaiCXFdXh7S0NBiNRthsNrS1td2xfyAQQG1tLaxWKwwGAx544AE0NDREVTARhVL9fuTGxkZUVlairq4O+fn5+O1vf4uioiJ0dXVh2bJlYceUlJTg008/hcvlwle/+lX09fXh9u3bky6eiMaofj9ydnY2MjMzUV9fH2xbsWIFiouL4XQ6Q/qfPn0aW7ZsweXLl7FgwYKoiuT7kWm2mpHvRx4eHkZHRwfsdrui3W63o729PeyYU6dOISsrC7/4xS9w33334aGHHsLu3bvxn//8J/qqiUhB1Ufr/v5+jIyMwGKxKNotFgt6e3vDjrl8+TLefvttGI1GNDc3o7+/Hz/60Y/w2WefRfyeHAgEEAgEguuDg4NqyiSac6K62KXRaBTrQoiQtnGjo6PQaDQ4evQo1qxZg40bN+K5557DkSNHIs7KTqcTZrM5uKSmpkZTJtGcoSrISUlJ0Gq1IbNvX19fyCw9Ljk5Gffddx/MZnOwbcWKFRBC4OOPPw47pqamBn6/P7j4fD41ZRLNOaqCrNfrYbPZ4Ha7Fe1utxt5eXlhx+Tn5+Nf//oXrl+/Hmy7dOkSEhISkJKSEnaMwWCAyWRSLER0B0Kl1157TSQmJgqXyyW6urpEZWWlmDdvnvjoo4+EEEJUV1eLsrKyYP+hoSGRkpIivve974n3339ftLa2igcffFBs3759wvv0+/0CgPD7/WrLJZpW8Tp3Vd9HLi0txcDAAPbv34+enh6sWrUKLS0tsFqtAICenh54vd5g/y996Utwu934yU9+gqysLCxcuBAlJSV46qmnpurfIqI5T/V95OnA+8g0W83I+8hENDMxyEQSYJCJJMAgE0mAQSaSAINMJAEGmUgCDDKRBBhkIgkwyEQSYJCJJMAgE0mAQSaSAINMJAEGmUgCDDKRBBhkIgkwyEQSYJCJJMAgE0mAQSaSAINMJAEGmUgCDDKRBBhkIgkwyEQSYJCJJMAgE0mAQSaSAINMJIGoglxXV4e0tDQYjUbYbDa0tbVNaNyFCxeg0+nw9a9/PZrdElEEqoPc2NiIyspK1NbWwuPxoKCgAEVFRYqXm4fj9/tRXl6OtWvXRl0sEYWn+kXn2dnZyMzMRH19fbBtxYoVKC4uhtPpjDhuy5YtePDBB6HVanHy5El0dnZOeJ980TnNVjPyRefDw8Po6OiA3W5XtNvtdrS3t0ccd/jwYXz44YfYs2fPhPYTCAQwODioWIgoMlVB7u/vx8jICCwWi6LdYrGgt7c37JgPPvgA1dXVOHr0KHQ63YT243Q6YTabg0tqaqqaMonmnKgudmk0GsW6ECKkDQBGRkbw/e9/H/v27cNDDz004e3X1NTA7/cHF5/PF02ZRHPGxKbI/0lKSoJWqw2Zffv6+kJmaQAYGhrCe++9B4/Hgx//+McAgNHRUQghoNPpcObMGTz66KMh4wwGAwwGg5rSiOY0VTOyXq+HzWaD2+1WtLvdbuTl5YX0N5lM+Otf/4rOzs7g4nA4kJ6ejs7OTmRnZ0+ueiICoHJGBoCqqiqUlZUhKysLubm5OHToELxeLxwOB4Cxj8WffPIJXn31VSQkJGDVqlWK8YsXL4bRaAxpJ6LoqQ5yaWkpBgYGsH//fvT09GDVqlVoaWmB1WoFAPT09Nz1njIRTS3V95GnA+8j02w1I+8jE9HMxCATSYBBJpIAg0wkAQaZSAIMMpEEGGQiCTDIRBJgkIkkwCATSYBBJpIAg0wkAQaZSAIMMpEEGGQiCTDIRBJgkIkkwCATSYBBJpIAg0wkAQaZSAIMMpEEGGQiCTDIRBJgkIkkwCATSYBBJpIAg0wkAQaZSAJRBbmurg5paWkwGo2w2Wxoa2uL2PfEiRNYv349Fi1aBJPJhNzcXLz11ltRF0xEoVQHubGxEZWVlaitrYXH40FBQQGKiooivhP5/PnzWL9+PVpaWtDR0YFvf/vb2Lx5Mzwez6SLJ6Ixqt+PnJ2djczMTNTX1wfbVqxYgeLiYjidzglt4+GHH0ZpaSmefPLJCfXn+5FptpqR70ceHh5GR0cH7Ha7ot1ut6O9vX1C2xgdHcXQ0BAWLFigZtdEdAc6NZ37+/sxMjICi8WiaLdYLOjt7Z3QNp599lncuHEDJSUlEfsEAgEEAoHg+uDgoJoyieacqC52aTQaxboQIqQtnOPHj2Pv3r1obGzE4sWLI/ZzOp0wm83BJTU1NZoyieYMVUFOSkqCVqsNmX37+vpCZukvamxsxLZt2/D6669j3bp1d+xbU1MDv98fXHw+n5oyieYcVUHW6/Ww2Wxwu92Kdrfbjby8vIjjjh8/jq1bt+LYsWPYtGnTXfdjMBhgMpkUCxFFpuo7MgBUVVWhrKwMWVlZyM3NxaFDh+D1euFwOACMzaaffPIJXn31VQBjIS4vL8dvfvMb5OTkBGfze+65B2azeQp/FKI5TETh4MGDwmq1Cr1eLzIzM0Vra2vwzyoqKkRhYWFwvbCwUAAIWSoqKia8P7/fLwAIv98fTblE0yZe567q+8jTgfeRabaakfeRiWhmYpCJJMAgE0mAQSaSAINMJAEGmUgCDDKRBBhkIgkwyEQSYJCJJMAgE0mAQSaSAINMJAEGmUgCDDKRBBhkIgkwyEQSYJCJJMAgE0mAQSaSAINMJAEGmUgCDDKRBBhkIgkwyEQSYJCJJMAgE0mAQSaSAINMJAEGmUgCUQW5rq4OaWlpMBqNsNlsaGtru2P/1tZW2Gw2GI1GLF++HC+99FJUxRJReKqD3NjYiMrKStTW1sLj8aCgoABFRUXwer1h+1+5cgUbN25EQUEBPB4PnnjiCezYsQNNTU2TLp6I/kftm9HXrFkjHA6Hoi0jI0NUV1eH7f/444+LjIwMRdsPf/hDkZOTM+F9xuut70RTLV7nrk5N6IeHh9HR0YHq6mpFu91uR3t7e9gxFy9ehN1uV7Rt2LABLpcLt27dQmJiYsiYQCCAQCAQXPf7/QDG3v5ONJuMn7NCiJjuR1WQ+/v7MTIyAovFomi3WCzo7e0NO6a3tzds/9u3b6O/vx/JyckhY5xOJ/bt2xfSnpqaqqZcohljYGAAZrM5ZttXFeRxGo1GsS6ECGm7W/9w7eNqampQVVUVXL927RqsViu8Xm9MD8ZUGRwcRGpqKnw+H0wm03SXc1ezqd7ZVCsw9mly2bJlWLBgQUz3oyrISUlJ0Gq1IbNvX19fyKw7bsmSJWH763Q6LFy4MOwYg8EAg8EQ0m42m2fFX944k8nEemNkNtUKAAkJsb3Tq2rrer0eNpsNbrdb0e52u5GXlxd2TG5ubkj/M2fOICsrK+z3YyJST/U/E1VVVXjllVfQ0NCA7u5u7Nq1C16vFw6HA8DYx+Ly8vJgf4fDgatXr6Kqqgrd3d1oaGiAy+XC7t27p+6nIJrrornUffDgQWG1WoVerxeZmZmitbU1+GcVFRWisLBQ0f/cuXNi9erVQq/Xi/vvv1/U19er2t/NmzfFnj17xM2bN6MpN+5Yb+zMplqFiF+9GiFifF2ciGKOv2tNJAEGmUgCDDKRBBhkIglMS5Bj8RhkU1MTVq5cCYPBgJUrV6K5uXla6j1x4gTWr1+PRYsWwWQyITc3F2+99Zaiz5EjR6DRaEKWmzdvxr3ec+fOha3l73//u6LfTDm+W7duDVvvww8/HOwTq+N7/vx5bN68GUuXLoVGo8HJkyfvOiZu525Mr4mH8dprr4nExETx8ssvi66uLrFz504xb948cfXq1bD9L1++LO69916xc+dO0dXVJV5++WWRmJgo3nzzzWCf9vZ2odVqxdNPPy26u7vF008/LXQ6nXjnnXfiXu/OnTvFgQMHxB//+Edx6dIlUVNTIxITE8Wf//znYJ/Dhw8Lk8kkenp6FMtUUFvv2bNnBQDxj3/8Q1HL7du3g31m0vG9du2aok6fzycWLFgg9uzZE+wTq+Pb0tIiamtrRVNTkwAgmpub79g/nudu3IMci8cgS0pKxHe+8x1Fnw0bNogtW7bEvd5wVq5cKfbt2xdcP3z4sDCbzZOuLRy19Y4H+fPPP4+4zZl8fJubm4VGoxEfffRRsC2Wx3fcRIIcz3M3rh+txx+D/OJjjdE8Bvnee+/h1q1bd+wTaZuxrPeLRkdHMTQ0FPJL89evX4fVakVKSgq++93vwuPxTKrWyda7evVqJCcnY+3atTh79qziz2by8XW5XFi3bh2sVquiPRbHV614nrtxDXIsHoO8U59I24xlvV/07LPP4saNGygpKQm2ZWRk4MiRIzh16hSOHz8Oo9GI/Px8fPDBB3GvNzk5GYcOHUJTUxNOnDiB9PR0rF27FufPnw/2manHt6enB3/4wx+wfft2RXusjq9a8Tx3o3qMcbJi8Rik2m2qEe22jx8/jr179+J3v/sdFi9eHGzPyclBTk5OcD0/Px+ZmZl44YUX8Pzzz8e13vT0dKSnpwfXc3Nz4fP58Ktf/Qrf+ta3otpmLOv9f0eOHMH8+fNRXFysaI/18VUjXuduXGfkWD0GGalPpG3Gst5xjY2N2LZtG15//XWsW7fujn0TEhLwjW98Y9IzxmTq/X85OTmKWmbi8RVCoKGhAWVlZdDr9XfsO1XHV614nrtxDXKsHoOM1CfSNmNZLzA2E2/duhXHjh3Dpk2b7rofIQQ6OzvD/m8p8aj3izwej6KWmXZ8gbHbOv/85z+xbdu2u+5nqo6vWnE9d1VdGpsC47cbXC6X6OrqEpWVlWLevHnBq47V1dWirKws2H/8Ev6uXbtEV1eXcLlcIZfwL1y4ILRarXjmmWdEd3e3eOaZZ6b89shE6z127JjQ6XTi4MGDilsf165dC/bZu3evOH36tPjwww+Fx+MRjz32mNDpdOLdd9+Ne72//vWvRXNzs7h06ZL429/+JqqrqwUA0dTUFOwzk47vuB/84AciOzs77DZjdXyHhoaEx+MRHo9HABDPPfec8Hg8wVtl03nuxj3IQsTmMcg33nhDpKeni8TERJGRkaE4EeNZb2FhoQAQslRUVAT7VFZWimXLlgm9Xi8WLVok7Ha7aG9vn5Z6Dxw4IB544AFhNBrFV77yFfHNb35T/P73vw/Z5kw5vkKM3Uu+5557xKFDh8JuL1bHd/xWXaS/2+k8d/kYI5EE+LvWRBJgkIkkwCATSYBBJpIAg0wkAQaZSAIMMpEEGGQiCTDIRBJgkIkkwCATSYBBJpLAfwFYU0YZ8P8lsQAAAABJRU5ErkJggg==\n",
      "text/plain": [
       "<Figure size 640x480 with 1 Axes>"
      ]
     },
     "metadata": {},
     "output_type": "display_data"
    }
   ],
   "source": [
    "fig = plt.figure()\n",
    "for i in range(6):\n",
    "  plt.subplot(2,3,i+1)\n",
    "  plt.tight_layout()\n",
    "  plt.imshow(example_data[i][0], cmap='gray', interpolation='none')\n",
    "  plt.title(\"Ground Truth: {}\".format(example_targets[i]))\n",
    "  plt.xticks([])\n",
    "  plt.yticks([])\n",
    "fig"
   ]
  },
  {
   "cell_type": "code",
   "execution_count": 26,
   "id": "c7d1cd18",
   "metadata": {},
   "outputs": [
    {
     "ename": "SyntaxError",
     "evalue": "invalid syntax (2525260736.py, line 1)",
     "output_type": "error",
     "traceback": [
      "\u001b[0;36m  File \u001b[0;32m\"/tmp/ipykernel_365186/2525260736.py\"\u001b[0;36m, line \u001b[0;32m1\u001b[0m\n\u001b[0;31m    Downloading http://yann.lecun.com/exdb/mnist/train-images-idx3-ubyte.gz\u001b[0m\n\u001b[0m                ^\u001b[0m\n\u001b[0;31mSyntaxError\u001b[0m\u001b[0;31m:\u001b[0m invalid syntax\n"
     ]
    }
   ],
   "source": []
  },
  {
   "cell_type": "code",
   "execution_count": null,
   "id": "90c2f80a",
=======
   "execution_count": null,
>>>>>>> refs/remotes/origin/main
   "metadata": {},
   "outputs": [],
   "source": []
  }
 ],
 "metadata": {
  "kernelspec": {
   "display_name": "Python 3 (ipykernel)",
   "language": "python",
   "name": "python3"
  },
  "language_info": {
   "codemirror_mode": {
    "name": "ipython",
    "version": 3
   },
   "file_extension": ".py",
   "mimetype": "text/x-python",
   "name": "python",
   "nbconvert_exporter": "python",
   "pygments_lexer": "ipython3",
   "version": "3.9.13"
  }
 },
 "nbformat": 4,
 "nbformat_minor": 5
}
